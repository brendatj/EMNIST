{
  "cells": [
    {
      "cell_type": "markdown",
      "metadata": {
        "id": "5ssH1fXDXgRB"
      },
      "source": [
        "# **EMNIST DATASET**"
      ]
    },
    {
      "cell_type": "markdown",
      "source": [
        "**PROFESSORS:**\n",
        "\n",
        "Alberto Testolin\n",
        "Marco Zorzi\n",
        "\n",
        "**COURSE:**\n",
        "\n",
        "COGNITION AND COMPUTATION\n",
        "\n",
        "**NAME:**\n",
        "\n",
        "Brenda Eloísa Téllez Juárez\n",
        "\n",
        "**STUDENT'S NUMBER:**\n",
        "\n",
        "2041498\n",
        "\n",
        "**CAPSTONE PROJECT WINTER 2023**"
      ],
      "metadata": {
        "id": "_ZdYgEK6VlIH"
      }
    },
    {
      "cell_type": "markdown",
      "source": [
        "**DESCRIPTION OF THE DATASET**\n",
        "\n",
        "The EMNIST dataset has evolved into a gold standard for learning, classification, and computer vision systems. The database's accessibility and ease of use contribute to its widespread adoption. \\\\\n",
        "The dataset is divided into the following: EMNIST ByClass, EMNIST ByMerge, EMNIST Balanced, EMNIST Letters, EMNIST Digits, and EMNIST MNIST.\n",
        "In the development of this work is used the EMNIST Balanced, which consists of 31,600 characters and 47 balanced classes, and contains a set of characters with an equal number of samples per class.\n",
        "\n",
        "**OBJECTIVE**\n",
        "\n",
        "The primary goal of this work is to create a BDN to observe the hierarchical representations of the features, as well as a FNN to compare the performance of the models and assess their resistance to noise and adversarial attacks.\n"
      ],
      "metadata": {
        "id": "gdvMkxbkiUBq"
      }
    },
    {
      "cell_type": "markdown",
      "source": [
        "**Libraries**"
      ],
      "metadata": {
        "id": "VL8uV73ooJ39"
      }
    },
    {
      "cell_type": "code",
      "execution_count": null,
      "metadata": {
        "id": "sEx-vmM5XCRx"
      },
      "outputs": [],
      "source": [
        "def get_dbn_library():\n",
        "  files = [\"DBN.py\", \"RBM.py\"]\n",
        "  repository_url = \"https://raw.githubusercontent.com/flavio2018/Deep-Belief-Network-pytorch/master/\"\n",
        "  for file in files:\n",
        "    ! wget -O {file} {repository_url}{file}"
      ]
    },
    {
      "cell_type": "code",
      "execution_count": null,
      "metadata": {
        "id": "LgV5LljfXz6c"
      },
      "outputs": [],
      "source": [
        "%%capture\n",
        "get_dbn_library()"
      ]
    },
    {
      "cell_type": "code",
      "execution_count": null,
      "metadata": {
        "id": "K9zAAXswX6W_"
      },
      "outputs": [],
      "source": [
        "import math\n",
        "import matplotlib.pyplot as plt\n",
        "import numpy as np\n",
        "import torch\n",
        "import torchvision as tv\n",
        "import torch.nn.functional as functional\n",
        "from tqdm.notebook import tqdm\n",
        "from DBN import DBN"
      ]
    },
    {
      "cell_type": "code",
      "execution_count": null,
      "metadata": {
        "id": "SSF6JfGeqPK6",
        "outputId": "db9b3c0e-5f8b-4ffa-9192-70abd7cfa5f5",
        "colab": {
          "base_uri": "https://localhost:8080/"
        }
      },
      "outputs": [
        {
          "output_type": "stream",
          "name": "stdout",
          "text": [
            "Looking in indexes: https://pypi.org/simple, https://us-python.pkg.dev/colab-wheels/public/simple/\n",
            "Requirement already satisfied: ipywidgets in /usr/local/lib/python3.8/dist-packages (7.7.1)\n",
            "Requirement already satisfied: ipython-genutils~=0.2.0 in /usr/local/lib/python3.8/dist-packages (from ipywidgets) (0.2.0)\n",
            "Requirement already satisfied: traitlets>=4.3.1 in /usr/local/lib/python3.8/dist-packages (from ipywidgets) (5.7.1)\n",
            "Requirement already satisfied: ipython>=4.0.0 in /usr/local/lib/python3.8/dist-packages (from ipywidgets) (7.9.0)\n",
            "Requirement already satisfied: ipykernel>=4.5.1 in /usr/local/lib/python3.8/dist-packages (from ipywidgets) (5.3.4)\n",
            "Requirement already satisfied: widgetsnbextension~=3.6.0 in /usr/local/lib/python3.8/dist-packages (from ipywidgets) (3.6.1)\n",
            "Requirement already satisfied: jupyterlab-widgets>=1.0.0 in /usr/local/lib/python3.8/dist-packages (from ipywidgets) (3.0.5)\n",
            "Requirement already satisfied: tornado>=4.2 in /usr/local/lib/python3.8/dist-packages (from ipykernel>=4.5.1->ipywidgets) (6.0.4)\n",
            "Requirement already satisfied: jupyter-client in /usr/local/lib/python3.8/dist-packages (from ipykernel>=4.5.1->ipywidgets) (6.1.12)\n",
            "Requirement already satisfied: pexpect in /usr/local/lib/python3.8/dist-packages (from ipython>=4.0.0->ipywidgets) (4.8.0)\n",
            "Requirement already satisfied: pickleshare in /usr/local/lib/python3.8/dist-packages (from ipython>=4.0.0->ipywidgets) (0.7.5)\n",
            "Requirement already satisfied: setuptools>=18.5 in /usr/local/lib/python3.8/dist-packages (from ipython>=4.0.0->ipywidgets) (57.4.0)\n",
            "Collecting jedi>=0.10\n",
            "  Downloading jedi-0.18.2-py2.py3-none-any.whl (1.6 MB)\n",
            "\u001b[2K     \u001b[90m━━━━━━━━━━━━━━━━━━━━━━━━━━━━━━━━━━━━━━━━\u001b[0m \u001b[32m1.6/1.6 MB\u001b[0m \u001b[31m70.8 MB/s\u001b[0m eta \u001b[36m0:00:00\u001b[0m\n",
            "\u001b[?25hRequirement already satisfied: pygments in /usr/local/lib/python3.8/dist-packages (from ipython>=4.0.0->ipywidgets) (2.6.1)\n",
            "Requirement already satisfied: backcall in /usr/local/lib/python3.8/dist-packages (from ipython>=4.0.0->ipywidgets) (0.2.0)\n",
            "Requirement already satisfied: prompt-toolkit<2.1.0,>=2.0.0 in /usr/local/lib/python3.8/dist-packages (from ipython>=4.0.0->ipywidgets) (2.0.10)\n",
            "Requirement already satisfied: decorator in /usr/local/lib/python3.8/dist-packages (from ipython>=4.0.0->ipywidgets) (4.4.2)\n",
            "Requirement already satisfied: notebook>=4.4.1 in /usr/local/lib/python3.8/dist-packages (from widgetsnbextension~=3.6.0->ipywidgets) (5.7.16)\n",
            "Requirement already satisfied: parso<0.9.0,>=0.8.0 in /usr/local/lib/python3.8/dist-packages (from jedi>=0.10->ipython>=4.0.0->ipywidgets) (0.8.3)\n",
            "Requirement already satisfied: jupyter-core>=4.4.0 in /usr/local/lib/python3.8/dist-packages (from notebook>=4.4.1->widgetsnbextension~=3.6.0->ipywidgets) (5.1.3)\n",
            "Requirement already satisfied: jinja2<=3.0.0 in /usr/local/lib/python3.8/dist-packages (from notebook>=4.4.1->widgetsnbextension~=3.6.0->ipywidgets) (2.11.3)\n",
            "Requirement already satisfied: Send2Trash in /usr/local/lib/python3.8/dist-packages (from notebook>=4.4.1->widgetsnbextension~=3.6.0->ipywidgets) (1.8.0)\n",
            "Requirement already satisfied: pyzmq>=17 in /usr/local/lib/python3.8/dist-packages (from notebook>=4.4.1->widgetsnbextension~=3.6.0->ipywidgets) (23.2.1)\n",
            "Requirement already satisfied: terminado>=0.8.1 in /usr/local/lib/python3.8/dist-packages (from notebook>=4.4.1->widgetsnbextension~=3.6.0->ipywidgets) (0.13.3)\n",
            "Requirement already satisfied: prometheus-client in /usr/local/lib/python3.8/dist-packages (from notebook>=4.4.1->widgetsnbextension~=3.6.0->ipywidgets) (0.15.0)\n",
            "Requirement already satisfied: nbformat in /usr/local/lib/python3.8/dist-packages (from notebook>=4.4.1->widgetsnbextension~=3.6.0->ipywidgets) (5.7.1)\n",
            "Requirement already satisfied: nbconvert<6.0 in /usr/local/lib/python3.8/dist-packages (from notebook>=4.4.1->widgetsnbextension~=3.6.0->ipywidgets) (5.6.1)\n",
            "Requirement already satisfied: python-dateutil>=2.1 in /usr/local/lib/python3.8/dist-packages (from jupyter-client->ipykernel>=4.5.1->ipywidgets) (2.8.2)\n",
            "Requirement already satisfied: six>=1.9.0 in /usr/local/lib/python3.8/dist-packages (from prompt-toolkit<2.1.0,>=2.0.0->ipython>=4.0.0->ipywidgets) (1.15.0)\n",
            "Requirement already satisfied: wcwidth in /usr/local/lib/python3.8/dist-packages (from prompt-toolkit<2.1.0,>=2.0.0->ipython>=4.0.0->ipywidgets) (0.2.5)\n",
            "Requirement already satisfied: ptyprocess>=0.5 in /usr/local/lib/python3.8/dist-packages (from pexpect->ipython>=4.0.0->ipywidgets) (0.7.0)\n",
            "Requirement already satisfied: MarkupSafe>=0.23 in /usr/local/lib/python3.8/dist-packages (from jinja2<=3.0.0->notebook>=4.4.1->widgetsnbextension~=3.6.0->ipywidgets) (2.0.1)\n",
            "Requirement already satisfied: platformdirs>=2.5 in /usr/local/lib/python3.8/dist-packages (from jupyter-core>=4.4.0->notebook>=4.4.1->widgetsnbextension~=3.6.0->ipywidgets) (2.6.2)\n",
            "Requirement already satisfied: pandocfilters>=1.4.1 in /usr/local/lib/python3.8/dist-packages (from nbconvert<6.0->notebook>=4.4.1->widgetsnbextension~=3.6.0->ipywidgets) (1.5.0)\n",
            "Requirement already satisfied: bleach in /usr/local/lib/python3.8/dist-packages (from nbconvert<6.0->notebook>=4.4.1->widgetsnbextension~=3.6.0->ipywidgets) (5.0.1)\n",
            "Requirement already satisfied: testpath in /usr/local/lib/python3.8/dist-packages (from nbconvert<6.0->notebook>=4.4.1->widgetsnbextension~=3.6.0->ipywidgets) (0.6.0)\n",
            "Requirement already satisfied: mistune<2,>=0.8.1 in /usr/local/lib/python3.8/dist-packages (from nbconvert<6.0->notebook>=4.4.1->widgetsnbextension~=3.6.0->ipywidgets) (0.8.4)\n",
            "Requirement already satisfied: entrypoints>=0.2.2 in /usr/local/lib/python3.8/dist-packages (from nbconvert<6.0->notebook>=4.4.1->widgetsnbextension~=3.6.0->ipywidgets) (0.4)\n",
            "Requirement already satisfied: defusedxml in /usr/local/lib/python3.8/dist-packages (from nbconvert<6.0->notebook>=4.4.1->widgetsnbextension~=3.6.0->ipywidgets) (0.7.1)\n",
            "Requirement already satisfied: jsonschema>=2.6 in /usr/local/lib/python3.8/dist-packages (from nbformat->notebook>=4.4.1->widgetsnbextension~=3.6.0->ipywidgets) (4.3.3)\n",
            "Requirement already satisfied: fastjsonschema in /usr/local/lib/python3.8/dist-packages (from nbformat->notebook>=4.4.1->widgetsnbextension~=3.6.0->ipywidgets) (2.16.2)\n",
            "Requirement already satisfied: importlib-resources>=1.4.0 in /usr/local/lib/python3.8/dist-packages (from jsonschema>=2.6->nbformat->notebook>=4.4.1->widgetsnbextension~=3.6.0->ipywidgets) (5.10.2)\n",
            "Requirement already satisfied: attrs>=17.4.0 in /usr/local/lib/python3.8/dist-packages (from jsonschema>=2.6->nbformat->notebook>=4.4.1->widgetsnbextension~=3.6.0->ipywidgets) (22.2.0)\n",
            "Requirement already satisfied: pyrsistent!=0.17.0,!=0.17.1,!=0.17.2,>=0.14.0 in /usr/local/lib/python3.8/dist-packages (from jsonschema>=2.6->nbformat->notebook>=4.4.1->widgetsnbextension~=3.6.0->ipywidgets) (0.19.3)\n",
            "Requirement already satisfied: webencodings in /usr/local/lib/python3.8/dist-packages (from bleach->nbconvert<6.0->notebook>=4.4.1->widgetsnbextension~=3.6.0->ipywidgets) (0.5.1)\n",
            "Requirement already satisfied: zipp>=3.1.0 in /usr/local/lib/python3.8/dist-packages (from importlib-resources>=1.4.0->jsonschema>=2.6->nbformat->notebook>=4.4.1->widgetsnbextension~=3.6.0->ipywidgets) (3.11.0)\n",
            "Installing collected packages: jedi\n",
            "Successfully installed jedi-0.18.2\n"
          ]
        }
      ],
      "source": [
        "!pip install ipywidgets"
      ]
    },
    {
      "cell_type": "markdown",
      "metadata": {
        "id": "GqtVYVUkcHZ8"
      },
      "source": [
        "Let's choose dynamically the kind of device used for computations (CPU or GPU)."
      ]
    },
    {
      "cell_type": "code",
      "execution_count": null,
      "metadata": {
        "id": "oNV2cc6il-zv",
        "outputId": "bbbfdfbd-8f92-4910-9469-8919aea32d0e",
        "colab": {
          "base_uri": "https://localhost:8080/"
        }
      },
      "outputs": [
        {
          "output_type": "stream",
          "name": "stdout",
          "text": [
            "True\n"
          ]
        }
      ],
      "source": [
        "print(torch.cuda.is_available())\n",
        "device = torch.device(\"cuda\") if torch.cuda.is_available() else torch.device(\"cpu\")"
      ]
    },
    {
      "cell_type": "markdown",
      "source": [
        "**Adding the dataset**"
      ],
      "metadata": {
        "id": "aItzQ6VpoSvT"
      }
    },
    {
      "cell_type": "code",
      "execution_count": null,
      "metadata": {
        "id": "sQ9eMI7bYEUZ"
      },
      "outputs": [],
      "source": [
        "%%capture\n",
        "emnist_train = tv.datasets.EMNIST('data/', train=True, download=True, split='balanced',\n",
        "                                         transform=tv.transforms.Compose(\n",
        "                                                  [tv.transforms.ToTensor()]\n",
        "                                         ))\n",
        "\n",
        "emnist_test = tv.datasets.EMNIST(\"data/\",\n",
        "                                train=False,\n",
        "                                download=True,\n",
        "                                split=\"balanced\",\n",
        "                                transform=tv.transforms.Compose(\n",
        "                                        [tv.transforms.ToTensor()]\n",
        "                                ))"
      ]
    },
    {
      "cell_type": "code",
      "execution_count": null,
      "metadata": {
        "id": "D6wUwWYUYGT7"
      },
      "outputs": [],
      "source": [
        "emnist_train.data = (emnist_train.data.type(torch.FloatTensor)/255)\n",
        "emnist_test.data = (emnist_test.data.type(torch.FloatTensor)/255)"
      ]
    },
    {
      "cell_type": "code",
      "execution_count": null,
      "metadata": {
        "id": "GWWayyi6caaU"
      },
      "outputs": [],
      "source": [
        "emnist_train.data = emnist_train.data.to(device)\n",
        "emnist_test.data = emnist_test.data.to(device)\n",
        "emnist_train.targets = emnist_train.targets.to(device)\n",
        "emnist_test.targets = emnist_test.targets.to(device)"
      ]
    },
    {
      "cell_type": "markdown",
      "metadata": {
        "id": "fRAzcxiZcnGK"
      },
      "source": [
        "## **Deep Belief Network**"
      ]
    },
    {
      "cell_type": "markdown",
      "source": [
        "The goal of a Deep Belief Network (DBN) is to learn and understand data patterns. This is accomplished by training multiple layers, each of which learns to recognize and represent more complex patterns in the data. The first stage of training involves unsupervised learning to train each layer, followed by labeled data to fine-tune the network for specific tasks such as prediction or classification. The end result is a multi-layer neural network capable of making predictions based on the patterns discovered in the data."
      ],
      "metadata": {
        "id": "a6HLzgfBqKZ1"
      }
    },
    {
      "cell_type": "code",
      "execution_count": null,
      "metadata": {
        "id": "SBWXVpfkYI2Q"
      },
      "outputs": [],
      "source": [
        "dbn_emnist = DBN(visible_units=28*28,\n",
        "                hidden_units=[400, 500, 800],\n",
        "                k=1,\n",
        "                learning_rate=0.1,\n",
        "                learning_rate_decay=False,\n",
        "                initial_momentum=0.5,\n",
        "                final_momentum=0.95,\n",
        "                weight_decay=0.0001,\n",
        "                xavier_init=False,\n",
        "                increase_to_cd_k=False,\n",
        "                use_gpu=torch.cuda.is_available())"
      ]
    },
    {
      "cell_type": "markdown",
      "source": [
        "The DBN has 28x28 visible units (image pixels of 28x28) and three hidden layers of 400, 500, and 800 units. The network trains using contrastive divergence with k=1 and has a learning rate of 0.1. The network's momentum begins at 0.5 and gradually increases to 0.95. The weight decay is set to 0.0001, and no Xavier initialization is used. The computations are performed on a GPU."
      ],
      "metadata": {
        "id": "RIE57Ft8pXsw"
      }
    },
    {
      "cell_type": "code",
      "execution_count": null,
      "metadata": {
        "id": "0BfmZ39NYLTV",
        "colab": {
          "base_uri": "https://localhost:8080/"
        },
        "outputId": "32411cf7-7689-41ba-ba19-846b1c7e419c"
      },
      "outputs": [
        {
          "output_type": "stream",
          "name": "stdout",
          "text": [
            "--------------------\n",
            "Training RBM layer 1\n",
            "|Epoch |avg_rec_err |std_rec_err  |mean_grad |std_grad  |\n",
            "|10    |1.3772     |0.0418       |341.7620   |4.9686     |\n",
            "|20    |1.3153     |0.0400       |324.5097   |5.0134     |\n",
            "|30    |1.3048     |0.0415       |320.4977   |5.0402     |\n",
            "|40    |1.3013     |0.0402       |319.8418   |4.7640     |\n",
            "|50    |1.2967     |0.0399       |317.3332   |5.2190     |\n",
            "--------------------\n",
            "Training RBM layer 2\n",
            "|Epoch |avg_rec_err |std_rec_err  |mean_grad |std_grad  |\n",
            "|10    |1.6301     |0.0432       |224.7444   |2.8573     |\n",
            "|20    |1.5694     |0.0417       |219.6446   |3.0283     |\n",
            "|30    |1.5564     |0.0419       |218.0573   |2.7012     |\n",
            "|40    |1.5512     |0.0416       |218.0761   |2.9994     |\n",
            "|50    |1.5494     |0.0395       |217.6292   |3.0661     |\n",
            "--------------------\n",
            "Training RBM layer 3\n",
            "|Epoch |avg_rec_err |std_rec_err  |mean_grad |std_grad  |\n",
            "|10    |1.1501     |0.0329       |265.3364   |3.6220     |\n",
            "|20    |1.0741     |0.0305       |251.1431   |3.8201     |\n",
            "|30    |1.0635     |0.0293       |249.2249   |3.1200     |\n",
            "|40    |1.0601     |0.0298       |249.4845   |3.0911     |\n",
            "|50    |1.0580     |0.0286       |248.1279   |3.2300     |\n"
          ]
        }
      ],
      "source": [
        "num_epochs = 50\n",
        "batch_size = 125\n",
        "\n",
        "dbn_emnist.train_static(\n",
        "    emnist_train.data,\n",
        "    emnist_train.targets,\n",
        "    num_epochs,\n",
        "    batch_size\n",
        ")"
      ]
    },
    {
      "cell_type": "markdown",
      "source": [
        "Training is divided into three stages, one for each hidden layer. The batch size is 125 and the number of training epochs is set to 50. For each hidden layer at each epoch, the output displays the average reconstruction error, standard deviation of reconstruction error, mean gradient, and standard deviation of gradient. The reconstruction error and gradients are indicators of how well the network can reconstruct the input data, and their values decrease as training progresses.\n",
        "\n",
        "The reconstruction error of the first hidden layer starts at 1.3772 and the standard deviation is 0.0418, and it decreases to 1.2967 and 0.0399 at the end of the training. The mean gradient starts at 341.7620 and the standard deviation is 4.9686, and it decreases to 317.3332. The second layer begins with a reconstruction error of 1.6301 and a standard deviation of 0.0432 and decreases to 1.5494 and 0.0395 at the end of training, while the mean gradient begins at 224.7444 and decreases to 217.6292. The third layer, starts with a reconstruction error of 1.1501 and standard deviation of 0.0329and it decreases to 1.0580  and 0.0286  at the end of the training, the mean gradient starts at 265.3364 and standard deviation of 3.6220 and it decreases to 248.1279."
      ],
      "metadata": {
        "id": "SrLPfnpZq3-E"
      }
    },
    {
      "cell_type": "markdown",
      "metadata": {
        "id": "6zRN90izXq9A"
      },
      "source": [
        "##**Linear read-out**"
      ]
    },
    {
      "cell_type": "markdown",
      "source": [
        "The linear readout is the final step in a DBN that combines the information from previous layers to make a prediction. It uses a simple mathematical formula to combine the information and produce a single output. This is often used in regression problems where the answer is a continuous value. The formula used is optimized during training to improve the accuracy of the predictions."
      ],
      "metadata": {
        "id": "1LFXfs5dua_e"
      }
    },
    {
      "cell_type": "code",
      "execution_count": null,
      "metadata": {
        "id": "Vo9_GHi5eqJG"
      },
      "outputs": [],
      "source": [
        "def get_kth_layer_repr(input, k, device):\n",
        "  flattened_input = input.view((input.shape[0], -1)).type(torch.FloatTensor).to(device)\n",
        "  hidden_repr, __ = dbn_emnist.rbm_layers[k].to_hidden(flattened_input)  # here we access the RBM object\n",
        "  return hidden_repr"
      ]
    },
    {
      "cell_type": "markdown",
      "source": [
        "This code defines the function \"get kth layer repr,\" which takes three arguments: input, k (hidden layer index), and device (GPU or CPU).\n",
        "The function flattens the tensor input. The input is then sent to the device. The function then invokes the \"to hidden\" method of the DBN's kth RBM object. The method returns the hidden representation of the input, which serves as the function's output."
      ],
      "metadata": {
        "id": "oclEotEsvA1S"
      }
    },
    {
      "cell_type": "code",
      "execution_count": null,
      "metadata": {
        "id": "ZQ6YRrdces7-"
      },
      "outputs": [],
      "source": [
        "hidden_repr_layer_1 = get_kth_layer_repr(emnist_train.data, 0, device)\n",
        "hidden_repr_layer_2 = get_kth_layer_repr(hidden_repr_layer_1, 1, device)\n",
        "hidden_repr_layer_3 = get_kth_layer_repr(hidden_repr_layer_2, 2, device)"
      ]
    },
    {
      "cell_type": "markdown",
      "source": [
        "It calls the function \"get kth layer repr\" three times, passing in the train data each time. In each call, data is used as the input, the index of the hidden layer (0,1,2 respectively), and goes to the device.\n",
        "We can use these hidden representations to classify the images."
      ],
      "metadata": {
        "id": "SNdiGrvVwMnS"
      }
    },
    {
      "cell_type": "code",
      "execution_count": null,
      "metadata": {
        "id": "aY50h0yKYbsy"
      },
      "outputs": [],
      "source": [
        "class LinearModel(torch.nn.Module):\n",
        "  def __init__(self, last_layer_size):\n",
        "    super().__init__()\n",
        "    self.linear = torch.nn.Linear(last_layer_size, 47)\n",
        "\n",
        "  def forward(self, x):\n",
        "    return self.linear(x)"
      ]
    },
    {
      "cell_type": "markdown",
      "source": [
        "This code declares the \"LinearModel\" class. This class defines a simple linear model for classification tasks using the balanced dataset's 47 classes.\n",
        "The class also defines a forward method that takes the input tensor as an argument, applies the linear layer to it, and returns the result.\n",
        "This linear model can be trained on the hidden representations obtained from the layers and used to classify the images."
      ],
      "metadata": {
        "id": "9E4gUvxX0wXT"
      }
    },
    {
      "cell_type": "code",
      "execution_count": null,
      "metadata": {
        "id": "b40x_TokeUbu"
      },
      "outputs": [],
      "source": [
        "layer_size = dbn_emnist.rbm_layers[0].W.shape[1]\n",
        "linear1 = LinearModel(layer_size).to(device)\n",
        "\n",
        "layer_size = dbn_emnist.rbm_layers[1].W.shape[1]\n",
        "linear2 = LinearModel(layer_size).to(device)\n",
        "\n",
        "layer_size = dbn_emnist.rbm_layers[2].W.shape[1]\n",
        "linear3 = LinearModel(layer_size).to(device)"
      ]
    },
    {
      "cell_type": "markdown",
      "source": [
        "This code generates three instances of the \"LinearModel\" class, one for each of the DBN's hidden layers.\n",
        "This linear model can be trained and used to classify images using the hidden representations obtained from the various layers."
      ],
      "metadata": {
        "id": "kR53nT2c1gyq"
      }
    },
    {
      "cell_type": "code",
      "execution_count": null,
      "metadata": {
        "id": "aIaZ0BrDeZDS"
      },
      "outputs": [],
      "source": [
        "def train(network, input, epochs=1500):\n",
        "  optimizer = torch.optim.SGD(network.parameters(), lr=0.05)\n",
        "  loss_fn = torch.nn.CrossEntropyLoss()\n",
        "\n",
        "  for epoch in range(epochs):\n",
        "    optimizer.zero_grad()\n",
        "    predictions = network(input).squeeze()\n",
        "    targets = emnist_train.targets.reshape(predictions.shape[0])  # here are the labels\n",
        "    loss = loss_fn(predictions, targets)\n",
        "    loss.backward()\n",
        "    optimizer.step()\n",
        "\n",
        "    if epoch % 100 == 0:\n",
        "      print(\"epoch : {:3d}/{}, loss = {:.4f}\".format(epoch + 1, epochs, loss))"
      ]
    },
    {
      "cell_type": "markdown",
      "source": [
        "This function train is used to train a neural network. It takes four arguments: the network, inputs, targets, and epochs (in this case, 1500).\n",
        "The function begins by defining an optimizer (SGD with a learning rate of 0.05) and a loss function (cross-entropy loss).\n",
        "Every 100 epochs, the code prints the current epoch number as well as the loss value. This allows to assess the progress of the training process and determine whether the network is overfitting or underfitting."
      ],
      "metadata": {
        "id": "Id0vmomj2QUl"
      }
    },
    {
      "cell_type": "code",
      "execution_count": null,
      "metadata": {
        "id": "gcKADqOwehz0",
        "colab": {
          "base_uri": "https://localhost:8080/"
        },
        "outputId": "dbc5cdfe-7df7-401f-a3f5-6573a9d3deeb"
      },
      "outputs": [
        {
          "output_type": "stream",
          "name": "stdout",
          "text": [
            "epoch :   1/1500, loss = 3.8689\n",
            "epoch : 101/1500, loss = 3.0515\n",
            "epoch : 201/1500, loss = 2.5297\n",
            "epoch : 301/1500, loss = 2.1926\n",
            "epoch : 401/1500, loss = 1.9681\n",
            "epoch : 501/1500, loss = 1.8118\n",
            "epoch : 601/1500, loss = 1.6979\n",
            "epoch : 701/1500, loss = 1.6111\n",
            "epoch : 801/1500, loss = 1.5426\n",
            "epoch : 901/1500, loss = 1.4868\n",
            "epoch : 1001/1500, loss = 1.4403\n",
            "epoch : 1101/1500, loss = 1.4006\n",
            "epoch : 1201/1500, loss = 1.3662\n",
            "epoch : 1301/1500, loss = 1.3359\n",
            "epoch : 1401/1500, loss = 1.3091\n",
            "epoch :   1/1500, loss = 3.8766\n",
            "epoch : 101/1500, loss = 3.0087\n",
            "epoch : 201/1500, loss = 2.4746\n",
            "epoch : 301/1500, loss = 2.1429\n",
            "epoch : 401/1500, loss = 1.9283\n",
            "epoch : 501/1500, loss = 1.7813\n",
            "epoch : 601/1500, loss = 1.6749\n",
            "epoch : 701/1500, loss = 1.5940\n",
            "epoch : 801/1500, loss = 1.5300\n",
            "epoch : 901/1500, loss = 1.4778\n",
            "epoch : 1001/1500, loss = 1.4340\n",
            "epoch : 1101/1500, loss = 1.3966\n",
            "epoch : 1201/1500, loss = 1.3641\n",
            "epoch : 1301/1500, loss = 1.3355\n",
            "epoch : 1401/1500, loss = 1.3100\n",
            "epoch :   1/1500, loss = 3.8600\n",
            "epoch : 101/1500, loss = 2.9949\n",
            "epoch : 201/1500, loss = 2.4523\n",
            "epoch : 301/1500, loss = 2.1088\n",
            "epoch : 401/1500, loss = 1.8836\n",
            "epoch : 501/1500, loss = 1.7286\n",
            "epoch : 601/1500, loss = 1.6162\n",
            "epoch : 701/1500, loss = 1.5310\n",
            "epoch : 801/1500, loss = 1.4637\n",
            "epoch : 901/1500, loss = 1.4089\n",
            "epoch : 1001/1500, loss = 1.3631\n",
            "epoch : 1101/1500, loss = 1.3241\n",
            "epoch : 1201/1500, loss = 1.2902\n",
            "epoch : 1301/1500, loss = 1.2605\n",
            "epoch : 1401/1500, loss = 1.2340\n"
          ]
        }
      ],
      "source": [
        "train(linear1, hidden_repr_layer_1)\n",
        "train(linear2, hidden_repr_layer_2)\n",
        "train(linear3, hidden_repr_layer_3)"
      ]
    },
    {
      "cell_type": "markdown",
      "source": [
        "We have linear models, linear1, linear2, and linear3, using the hidden representations of the first, second, and third layers of a pre-trained model respectively. The input for each linear model is the hidden representation of the corresponding layer, and the targets are the labels of the training data. The training process is done using stochastic gradient descent (SGD) as the optimization algorithm and cross-entropy loss as the loss function. The training process is performed for 1500 epochs and the loss is printed every 100 epochs."
      ],
      "metadata": {
        "id": "lq0ufJzU4q6A"
      }
    },
    {
      "cell_type": "code",
      "execution_count": null,
      "metadata": {
        "id": "98jypbsCe1xU"
      },
      "outputs": [],
      "source": [
        "hidden_repr_layer_1_test = get_kth_layer_repr(emnist_test.data, 0, device)\n",
        "hidden_repr_layer_2_test = get_kth_layer_repr(hidden_repr_layer_1_test, 1, device)\n",
        "hidden_repr_layer_3_test = get_kth_layer_repr(hidden_repr_layer_2_test, 2, device)"
      ]
    },
    {
      "cell_type": "markdown",
      "source": [
        "These variables, \"hidden_repr_layer_1_test\", \"hidden_repr_layer_2_test\" and \"hidden_repr_layer_3_test\" store the hidden representations of the test data at different layers in the DBN."
      ],
      "metadata": {
        "id": "YzI-Lg0W6qGP"
      }
    },
    {
      "cell_type": "code",
      "execution_count": null,
      "metadata": {
        "id": "j6dE-BqPe3qz"
      },
      "outputs": [],
      "source": [
        "# here we compute the predictions\n",
        "predictions_test1 = linear1(hidden_repr_layer_1_test)\n",
        "predictions_test2 = linear2(hidden_repr_layer_2_test)\n",
        "predictions_test3 = linear3(hidden_repr_layer_3_test)"
      ]
    },
    {
      "cell_type": "markdown",
      "source": [
        "Here the linear models created earlier are applied to the hidden representations of the test data, and the predictions are stored in the variables.\n",
        "These predictions can then be compared to the true labels of the test data to evaluate the performance of the linear models."
      ],
      "metadata": {
        "id": "PkWLSzJd72ya"
      }
    },
    {
      "cell_type": "code",
      "execution_count": null,
      "metadata": {
        "id": "TJoVirhgicoa"
      },
      "outputs": [],
      "source": [
        "def compute_accuracy(predictions_test, targets):\n",
        "  predictions_indices = predictions_test.max(axis=1).indices  # convert probabilities to indices\n",
        "  accuracy = (predictions_indices == targets).sum() / len(targets)\n",
        "  return accuracy.item()"
      ]
    },
    {
      "cell_type": "markdown",
      "source": [
        "The function \"compute_accuracy\" that takes in two arguments the predictions_test and the targets.\n",
        "It converts the predictions from a probability distribution to the indices of the classes that have the highest probability, and compares these indices to the true labels and average of the correct predictions. This average represents the accuracy of the predictions."
      ],
      "metadata": {
        "id": "U5Zf9vTh8vvd"
      }
    },
    {
      "cell_type": "code",
      "execution_count": null,
      "metadata": {
        "id": "DWUb5-SEop4Z",
        "colab": {
          "base_uri": "https://localhost:8080/"
        },
        "outputId": "ca1f08ab-d514-42d0-fa5c-278957b3ff23"
      },
      "outputs": [
        {
          "output_type": "execute_result",
          "data": {
            "text/plain": [
              "0.6639893651008606"
            ]
          },
          "metadata": {},
          "execution_count": 46
        }
      ],
      "source": [
        "compute_accuracy(predictions_test1, emnist_test.targets)"
      ]
    },
    {
      "cell_type": "code",
      "execution_count": null,
      "metadata": {
        "id": "pJ5W7AeKox-i",
        "colab": {
          "base_uri": "https://localhost:8080/"
        },
        "outputId": "32e1487e-17ce-454a-de1a-075c8dea67da"
      },
      "outputs": [
        {
          "output_type": "execute_result",
          "data": {
            "text/plain": [
              "0.6597872376441956"
            ]
          },
          "metadata": {},
          "execution_count": 47
        }
      ],
      "source": [
        "compute_accuracy(predictions_test2, emnist_test.targets)"
      ]
    },
    {
      "cell_type": "code",
      "execution_count": null,
      "metadata": {
        "id": "yQkNuYnyoz04",
        "colab": {
          "base_uri": "https://localhost:8080/"
        },
        "outputId": "67520357-2691-487b-a9d6-3cfa8c563a82"
      },
      "outputs": [
        {
          "output_type": "execute_result",
          "data": {
            "text/plain": [
              "0.6828723549842834"
            ]
          },
          "metadata": {},
          "execution_count": 48
        }
      ],
      "source": [
        "compute_accuracy(predictions_test3, emnist_test.targets)"
      ]
    },
    {
      "cell_type": "markdown",
      "source": [
        "The accuracy for the fist is 66.39%, for the second is 65.97%, and for the third is 68.28%."
      ],
      "metadata": {
        "id": "2bvUZIRn9h2A"
      }
    },
    {
      "cell_type": "markdown",
      "metadata": {
        "id": "690R4NNKfNhW"
      },
      "source": [
        "## **Comparison with a feed-forward model**"
      ]
    },
    {
      "cell_type": "code",
      "execution_count": null,
      "metadata": {
        "id": "NlR9LznufMp_"
      },
      "outputs": [],
      "source": [
        "class Feedforward(torch.nn.Module):\n",
        "  def __init__(self, first_hidden_layer_size, second_hidden_layer_size, third_hidden_layer_size):\n",
        "    super().__init__()\n",
        "    self.first_hidden = torch.nn.Linear(784, first_hidden_layer_size)\n",
        "    self.second_hidden = torch.nn.Linear(first_hidden_layer_size, second_hidden_layer_size)\n",
        "    self.third_hidden = torch.nn.Linear(second_hidden_layer_size, third_hidden_layer_size)\n",
        "    self.output = torch.nn.Linear(third_hidden_layer_size, 47)\n",
        "\n",
        "  def forward(self, input):\n",
        "    relu = torch.nn.ReLU()\n",
        "    first_hidden_repr = relu(self.first_hidden(input))\n",
        "    second_hidden_repr = relu(self.second_hidden(first_hidden_repr))\n",
        "    third_hidden_repr = relu(self.third_hidden(second_hidden_repr))\n",
        "    output = self.output(third_hidden_repr)\n",
        "    return output"
      ]
    },
    {
      "cell_type": "markdown",
      "source": [
        "It defines a Feedforward neural network for classification tasks with 47 classes. It takes in the input as an argument and applies the Linear layers to it with a non-linear activation function ReLU after each linear layer and returns the output."
      ],
      "metadata": {
        "id": "8eulrxanATDO"
      }
    },
    {
      "cell_type": "code",
      "execution_count": null,
      "metadata": {
        "id": "Upl8aiD-gqP3"
      },
      "outputs": [],
      "source": [
        "ffnn = Feedforward(400, 500, 800).to(device)"
      ]
    },
    {
      "cell_type": "markdown",
      "metadata": {
        "id": "nmueBeBECUUA"
      },
      "source": [
        "We choose the number of epochs to match the training time of the DBN and the readout layer combined."
      ]
    },
    {
      "cell_type": "code",
      "execution_count": null,
      "metadata": {
        "id": "ccEZ2ZMFiBrX",
        "colab": {
          "base_uri": "https://localhost:8080/"
        },
        "outputId": "affcf905-dcf3-45e0-cbda-59fe89a081fa"
      },
      "outputs": [
        {
          "output_type": "stream",
          "name": "stdout",
          "text": [
            "epoch :   1/1500, loss = 3.8501\n",
            "epoch : 101/1500, loss = 3.8339\n",
            "epoch : 201/1500, loss = 3.7947\n",
            "epoch : 301/1500, loss = 3.6239\n",
            "epoch : 401/1500, loss = 2.9653\n",
            "epoch : 501/1500, loss = 2.2127\n",
            "epoch : 601/1500, loss = 1.8017\n",
            "epoch : 701/1500, loss = 1.6084\n",
            "epoch : 801/1500, loss = 1.4824\n",
            "epoch : 901/1500, loss = 1.3972\n",
            "epoch : 1001/1500, loss = 1.3279\n",
            "epoch : 1101/1500, loss = 1.2690\n",
            "epoch : 1201/1500, loss = 1.2185\n",
            "epoch : 1301/1500, loss = 1.1739\n",
            "epoch : 1401/1500, loss = 1.1333\n"
          ]
        }
      ],
      "source": [
        "train(ffnn, emnist_train.data.reshape((112800, 784)), epochs=1500)"
      ]
    },
    {
      "cell_type": "code",
      "execution_count": null,
      "metadata": {
        "id": "_lDbHNfqiTgo"
      },
      "outputs": [],
      "source": [
        "predictions_ffnn = ffnn(emnist_test.data.reshape((18800, 784)))"
      ]
    },
    {
      "cell_type": "code",
      "execution_count": null,
      "metadata": {
        "id": "CExo7uyiiVgr",
        "colab": {
          "base_uri": "https://localhost:8080/"
        },
        "outputId": "80eb06fe-908b-44b2-d7ba-956e133ea48b"
      },
      "outputs": [
        {
          "output_type": "execute_result",
          "data": {
            "text/plain": [
              "0.6788297891616821"
            ]
          },
          "metadata": {},
          "execution_count": 60
        }
      ],
      "source": [
        "compute_accuracy(predictions_ffnn, emnist_test.targets)"
      ]
    },
    {
      "cell_type": "markdown",
      "source": [
        "We can observe that the accuracy of the FNN is 67.88%."
      ],
      "metadata": {
        "id": "70b5QkpVCYRM"
      }
    },
    {
      "cell_type": "markdown",
      "metadata": {
        "id": "73eq5eNPv4xZ"
      },
      "source": [
        "## **Robustness to noise**"
      ]
    },
    {
      "cell_type": "code",
      "execution_count": null,
      "metadata": {
        "id": "1EYKuRtVwLIs"
      },
      "outputs": [],
      "source": [
        "def inject_noise(emnist_data, noise_level):\n",
        "  random_gaussian_tensor = torch.randn(emnist_data.shape, device = device)*noise_level\n",
        "  return emnist_data + random_gaussian_tensor"
      ]
    },
    {
      "cell_type": "markdown",
      "source": [
        "This function is used to artificially add noise (gaussian) to the training data to improve the robustness of the model."
      ],
      "metadata": {
        "id": "z1vkocgQF9w8"
      }
    },
    {
      "cell_type": "markdown",
      "metadata": {
        "id": "A0tSj95s0HfR"
      },
      "source": [
        "Plotting the noisy image:"
      ]
    },
    {
      "cell_type": "code",
      "execution_count": null,
      "metadata": {
        "id": "YnnaCxzRzFX1",
        "colab": {
          "base_uri": "https://localhost:8080/",
          "height": 265
        },
        "outputId": "7ee0eba9-cc4a-48d2-fcce-67ad491a3d53"
      },
      "outputs": [
        {
          "output_type": "display_data",
          "data": {
            "text/plain": [
              "<Figure size 432x288 with 1 Axes>"
            ],
            "image/png": "[encoded data removed]"
          },
          "metadata": {
            "needs_background": "light"
          }
        }
      ],
      "source": [
        "noise_level = 0.3\n",
        "emnist_test_with_noise = inject_noise(emnist_test.data, noise_level)\n",
        "__ = plt.imshow(emnist_test_with_noise[0].reshape(28, 28).to(\"cpu\"), cmap=\"gray\")"
      ]
    },
    {
      "cell_type": "code",
      "execution_count": null,
      "metadata": {
        "id": "vprSgIGKxPRS"
      },
      "outputs": [],
      "source": [
        "def get_accuracy_values_at_noise_level(noise_level):\n",
        "\n",
        "  emnist_test_with_noise = inject_noise(emnist_test.data, noise_level)  # first, let's create noisy test images\n",
        "\n",
        "  hidden_repr_layer_1_noisy = get_kth_layer_repr(emnist_test_with_noise, 0, device)  # here we compute the DBN representations\n",
        "  hidden_repr_layer_2_noisy = get_kth_layer_repr(hidden_repr_layer_1_noisy, 1, device)\n",
        "  hidden_repr_layer_3_noisy = get_kth_layer_repr(hidden_repr_layer_2_noisy, 2, device)\n",
        "\n",
        "  predictions_first_hidden_noisy = linear1(hidden_repr_layer_1_noisy)  # here we use the previously-trained read-out classifiers\n",
        "  predictions_second_hidden_noisy = linear2(hidden_repr_layer_2_noisy)\n",
        "  predictions_third_hidden_noisy = linear3(hidden_repr_layer_3_noisy)\n",
        "\n",
        "  accuracy_first_hidden = compute_accuracy(predictions_first_hidden_noisy, emnist_test.targets)\n",
        "  accuracy_second_hidden = compute_accuracy(predictions_second_hidden_noisy, emnist_test.targets)\n",
        "  accuracy_third_hidden = compute_accuracy(predictions_third_hidden_noisy, emnist_test.targets)\n",
        "\n",
        "  predictions_ffnn_noisy = ffnn(emnist_test_with_noise.reshape((18800, 784)))  # we repeat a similar process for the feed-forward model\n",
        "  accuracy_ffnn = compute_accuracy(predictions_ffnn_noisy, emnist_test.targets)\n",
        "\n",
        "  return accuracy_first_hidden, accuracy_second_hidden, accuracy_third_hidden, accuracy_ffnn"
      ]
    },
    {
      "cell_type": "code",
      "execution_count": null,
      "metadata": {
        "id": "oTiusj9Dzp8X",
        "colab": {
          "base_uri": "https://localhost:8080/"
        },
        "outputId": "9c6c689c-1b46-49d6-868a-ed3b66b8e223"
      },
      "outputs": [
        {
          "output_type": "stream",
          "name": "stdout",
          "text": [
            "Accuracy of H1 read-out: 0.630\n",
            "Accuracy of H2 read-out: 0.647\n",
            "Accuracy of H3 read-out: 0.669\n",
            "Accuracy of FF network : 0.634\n"
          ]
        }
      ],
      "source": [
        "acc = get_accuracy_values_at_noise_level(0.3);\n",
        "print(\"Accuracy of H1 read-out: %.3f\" % acc[0])\n",
        "print(\"Accuracy of H2 read-out: %.3f\" % acc[1])\n",
        "print(\"Accuracy of H3 read-out: %.3f\" % acc[2])\n",
        "print(\"Accuracy of FF network : %.3f\" % acc[3])"
      ]
    },
    {
      "cell_type": "markdown",
      "source": [
        "The function returns the accuracy values for the 4 models.\n",
        "The accuracy values are very consistent between them, for the first one is observed 63%, for the second 64.7%, the third has the highest accuracy which is 66.9% and lastly the correpondant to the FNN 63.4% which is a little bit lower compared to the other classifiers."
      ],
      "metadata": {
        "id": "pLi7CQ9VGud4"
      }
    },
    {
      "cell_type": "markdown",
      "metadata": {
        "id": "dKZPC2Wx0rH_"
      },
      "source": [
        "Let's create the psychometric curves for the DBN (at different levels of internal representations) and for the feed-forward network:"
      ]
    },
    {
      "cell_type": "code",
      "execution_count": null,
      "metadata": {
        "id": "eUwuzAQYqIyB"
      },
      "outputs": [],
      "source": [
        "def plot_noise_robustness_curves(noise_levels):\n",
        "  accuracy_values_first_hidden = []\n",
        "  accuracy_values_second_hidden = []\n",
        "  accuracy_values_third_hidden = []\n",
        "  accuracy_values_ffnn = []\n",
        "\n",
        "  for noise_level in noise_levels:\n",
        "    acc = get_accuracy_values_at_noise_level(noise_level)\n",
        "    accuracy_values_first_hidden.append(acc[0])\n",
        "    accuracy_values_second_hidden.append(acc[1])\n",
        "    accuracy_values_third_hidden.append(acc[2])\n",
        "    accuracy_values_ffnn.append(acc[3])\n",
        "\n",
        "  fig, ax = plt.subplots()\n",
        "  ax.plot(range(len(noise_levels)), accuracy_values_first_hidden)\n",
        "  ax.plot(range(len(noise_levels)), accuracy_values_second_hidden)\n",
        "  ax.plot(range(len(noise_levels)), accuracy_values_third_hidden)\n",
        "  ax.plot(range(len(noise_levels)), accuracy_values_ffnn)\n",
        "\n",
        "  ax.set_title(\"Robustness to noise\")\n",
        "  ax.set_xlabel(\"Noise level (%)\")\n",
        "  ax.set_ylabel(\"Accuracy\")\n",
        "  plt.xticks(range(len(noise_levels)), [int(l*100) for l in noise_levels])\n",
        "  plt.legend([\"First hidden\", \"Second hidden\", \"Third hidden\", \"FFNN\"])"
      ]
    },
    {
      "cell_type": "code",
      "execution_count": null,
      "metadata": {
        "id": "U63ZIXbKy2DC",
        "colab": {
          "base_uri": "https://localhost:8080/",
          "height": 295
        },
        "outputId": "ddd56505-422d-499f-9e8e-afabe3c300f6"
      },
      "outputs": [
        {
          "output_type": "display_data",
          "data": {
            "text/plain": [
              "<Figure size 432x288 with 1 Axes>"
            ],
            "image/png": "[encoded data removed]"
          },
          "metadata": {
            "needs_background": "light"
          }
        }
      ],
      "source": [
        "noise_levels = [0, 0.1, 0.2, 0.3, 0.4, 0.5, 0.6, 0.7, 0.8, 0.9, 1.0, 1.1, 1.2, 1.3]\n",
        "plot_noise_robustness_curves(noise_levels)"
      ]
    },
    {
      "cell_type": "markdown",
      "source": [
        "It is observed that the model which is more robust to the noise is the third hidden, but as the noise level increases, it becomes comparable to the performance of the second hidden. On the other hand, the fist hidden and the FFNN have the worst performance."
      ],
      "metadata": {
        "id": "HUD2ddoyIr7G"
      }
    },
    {
      "cell_type": "markdown",
      "source": [
        "## **Perturbing the models with adversarial attacks**"
      ],
      "metadata": {
        "id": "_Pq2rM_8xdMF"
      }
    },
    {
      "cell_type": "code",
      "source": [
        "def fgsm_attack(image, epsilon, data_grad):\n",
        "    # Collect the element-wise sign of the data gradient\n",
        "    sign_data_grad = data_grad.sign()\n",
        "\n",
        "    # Create the perturbed image by adjusting each pixel of the input image\n",
        "    perturbed_image = image + epsilon*sign_data_grad\n",
        "\n",
        "    # Adding clipping to maintain [0,1] range\n",
        "    perturbed_image = torch.clamp(perturbed_image, 0, 1)\n",
        "\n",
        "    # Return the perturbed image\n",
        "    return perturbed_image"
      ],
      "metadata": {
        "id": "_JQKneGtxTvx"
      },
      "execution_count": null,
      "outputs": []
    },
    {
      "cell_type": "markdown",
      "source": [
        "This function takes as inputs the image, the epsilon (the value we are going to use to modify the images), and the data_grad, which is the sign of the gradient, and it will return the perturbed image, with the minor modification to confuse our model to perform the classification correctly."
      ],
      "metadata": {
        "id": "13chlBiTLO41"
      }
    },
    {
      "cell_type": "markdown",
      "source": [
        "## **Adversarial Samples**"
      ],
      "metadata": {
        "id": "OCpRzm31xoAH"
      }
    },
    {
      "cell_type": "code",
      "source": [
        "class DBNWithReadOut(torch.nn.Module):\n",
        "    def __init__(self, dbn_emnist, readouts, readout_level=0):\n",
        "        super().__init__()\n",
        "        self.readouts = readouts\n",
        "        self.dbn_emnist = dbn_emnist\n",
        "        self._require_grad()\n",
        "        self.readout_level = readout_level\n",
        "\n",
        "    def _require_grad(self):\n",
        "      for rbm in self.dbn_emnist.rbm_layers:\n",
        "        rbm.W.requires_grad_()\n",
        "        rbm.h_bias.requires_grad_()\n",
        "\n",
        "    def forward(self, image):\n",
        "      \"\"\"This forward pass uses probabilities instead of samples as RBM outputs\n",
        "       to backpropagate the gradient\"\"\"\n",
        "      p_v = image\n",
        "      hidden_states = []\n",
        "      for rbm in self.dbn_emnist.rbm_layers:\n",
        "        p_v = p_v.view((p_v.shape[0], -1))  # flatten\n",
        "        p_v, v = rbm(p_v)\n",
        "        hidden_states.append(p_v)\n",
        "      return self.readouts[self.readout_level].forward(hidden_states[self.readout_level])"
      ],
      "metadata": {
        "id": "7yejpb8hxjCX"
      },
      "execution_count": null,
      "outputs": []
    },
    {
      "cell_type": "markdown",
      "source": [
        "This is an implementation of a DBN with readout, a type of generative deep learning model. The class has two main components: the DBN and the readout, which is a neural network layer responsible for the final classification. The DBN and readout are combined to form a complete image classification model. The forward method implements the network's forward pass, which takes an input image and returns the final classification result."
      ],
      "metadata": {
        "id": "BeurS03NNN3J"
      }
    },
    {
      "cell_type": "code",
      "source": [
        "dbn_with_readout = DBNWithReadOut(dbn_emnist, [linear1, linear2, linear3], readout_level=2)"
      ],
      "metadata": {
        "id": "0MhjAklryDtJ"
      },
      "execution_count": null,
      "outputs": []
    },
    {
      "cell_type": "code",
      "source": [
        "test_sample_idx = 1\n",
        "test_image = emnist_test.data[test_sample_idx].reshape(1, 784)\n",
        "__ = plt.imshow(test_image.reshape(28,28).to('cpu'))"
      ],
      "metadata": {
        "colab": {
          "base_uri": "https://localhost:8080/",
          "height": 265
        },
        "id": "S1nMbobtyrJX",
        "outputId": "77dfe829-742f-4cf9-b264-bdf8b8ea8b12"
      },
      "execution_count": null,
      "outputs": [
        {
          "output_type": "display_data",
          "data": {
            "text/plain": [
              "<Figure size 432x288 with 1 Axes>"
            ],
            "image/png": "[encoded data removed]"
          },
          "metadata": {
            "needs_background": "light"
          }
        }
      ]
    },
    {
      "cell_type": "code",
      "source": [
        "attacked_model = ffnn"
      ],
      "metadata": {
        "id": "dLjxEQCTy0Vn"
      },
      "execution_count": null,
      "outputs": []
    },
    {
      "cell_type": "code",
      "source": [
        "attacked_model = dbn_with_readout"
      ],
      "metadata": {
        "id": "F-_oiSq_y5Su"
      },
      "execution_count": null,
      "outputs": []
    },
    {
      "cell_type": "code",
      "source": [
        "test_image.requires_grad_()\n",
        "model_outputs = attacked_model(test_image)\n",
        "prediction = torch.argmax(model_outputs)\n",
        "print(f\"The prediction of the model for this sample is {prediction}.\")"
      ],
      "metadata": {
        "colab": {
          "base_uri": "https://localhost:8080/"
        },
        "id": "AxeIZE_5y8ak",
        "outputId": "e853520e-86e6-4822-f2e3-446bb7d76bc6"
      },
      "execution_count": null,
      "outputs": [
        {
          "output_type": "stream",
          "name": "stdout",
          "text": [
            "The prediction of the model for this clean sample is 39.\n"
          ]
        }
      ]
    },
    {
      "cell_type": "markdown",
      "source": [
        "We are attacking the models created previously with adversarial examples. In this case, we are printing the visualizations of the modified images and the outputs, which correctly have been modified by the adversarial attack; in this case, even if, to the human eye, the modifications to the variables are not perceptible, we are cheating the model, and the outputs do not correspond with the correct classification."
      ],
      "metadata": {
        "id": "l9s1grzpN7m5"
      }
    },
    {
      "cell_type": "code",
      "source": [
        "epsilon = 0.2  # define strenght of the attack\n",
        "test_image_label = emnist_test.targets[test_sample_idx].unsqueeze(0)  # get ground truth label for that image\n",
        "loss_value = torch.nn.functional.cross_entropy(model_outputs, test_image_label)  # get loss value\n",
        "attacked_model.zero_grad()\n",
        "loss_value.backward()\n",
        "image_grad = test_image.grad.data  # get the gradient of the pixels w.r.t. the loss\n",
        "perturbed_image = fgsm_attack(test_image, epsilon, image_grad)\n",
        "\n",
        "perturbed_image_np = perturbed_image.detach().to('cpu').numpy()\n",
        "__ = plt.imshow(perturbed_image_np.reshape(28,28))"
      ],
      "metadata": {
        "colab": {
          "base_uri": "https://localhost:8080/",
          "height": 265
        },
        "id": "wLTH3ZPzzj7A",
        "outputId": "4302d1cc-b352-462c-f7e5-deefdc68ea71"
      },
      "execution_count": null,
      "outputs": [
        {
          "output_type": "display_data",
          "data": {
            "text/plain": [
              "<Figure size 432x288 with 1 Axes>"
            ],
            "image/png": "[encoded data removed]"
          },
          "metadata": {
            "needs_background": "light"
          }
        }
      ]
    },
    {
      "cell_type": "code",
      "source": [
        "model_outputs = attacked_model(perturbed_image.view((perturbed_image.shape[0], -1)))\n",
        "print(f\"The prediction of the model for the perturbed sample is {torch.argmax(model_outputs)}.\")"
      ],
      "metadata": {
        "colab": {
          "base_uri": "https://localhost:8080/"
        },
        "id": "a8xZhHPszED-",
        "outputId": "386f8d76-2c10-4544-e3b1-211718e810e3"
      },
      "execution_count": null,
      "outputs": [
        {
          "output_type": "stream",
          "name": "stdout",
          "text": [
            "The prediction of the model for the perturbed sample is 0.\n"
          ]
        }
      ]
    },
    {
      "cell_type": "markdown",
      "source": [
        "##**Resisting to adversarial attacks**\n"
      ],
      "metadata": {
        "id": "lysdAkfjz3mb"
      }
    },
    {
      "cell_type": "code",
      "source": [
        "def test_robustness_to_attack(model, device, test_loader, epsilon, num_steps=0, verbose=True):\n",
        "    correct = 0\n",
        "    print_reconstruction = num_steps > 0\n",
        "\n",
        "    for data, target in tqdm(test_loader):\n",
        "        data, target = data.to(device), target.to(device)\n",
        "        data = data.reshape(-1, 784)\n",
        "        data.requires_grad = True  # Important for Attack\n",
        "\n",
        "        output = model.forward(data)\n",
        "\n",
        "        init_pred = torch.argmax(output)\n",
        "\n",
        "        if (print_reconstruction and verbose):\n",
        "          print(\"\\nHere's the original sample:\\n\")\n",
        "          plt.imshow(data[0].detach().to('cpu').numpy().reshape(28,28))\n",
        "          plt.show()\n",
        "\n",
        "        loss = functional.nll_loss(output, target)\n",
        "        model.zero_grad()\n",
        "        loss.backward()\n",
        "        data_grad = data.grad.data  # collect the gradient of the input data\n",
        "        perturbed_data = fgsm_attack(data, epsilon, data_grad)\n",
        "\n",
        "        if (print_reconstruction and verbose):\n",
        "            print(\"\\nHere's a perturbed sample:\\n\")\n",
        "            plt.imshow(perturbed_data[0].detach().to('cpu').numpy().reshape(28,28))\n",
        "            plt.show()\n",
        "\n",
        "\n",
        "        # If requested, reconstruct the input iterating forward-backward dynamics\n",
        "        if num_steps > 0:\n",
        "            for __ in range(0, num_steps):\n",
        "                perturbed_data, __ = model.dbn_emnist.reconstruct(perturbed_data)\n",
        "            if (print_reconstruction and verbose):\n",
        "                print(f\"\\nHere's what a {num_steps}-steps reconstructed sample looks like:\\n\")\n",
        "                plt.imshow(perturbed_data[0].detach().to('cpu').numpy().reshape(28,28))\n",
        "                plt.show()\n",
        "                print_reconstruction = False\n",
        "\n",
        "        # Re-classify the perturbed image\n",
        "        output = model(perturbed_data)\n",
        "\n",
        "        # Check for success\n",
        "        # get the index of the max element in the output\n",
        "        final_pred = output.max(1, keepdim=True)[1]\n",
        "        final_pred = output.argmax(-1)\n",
        "        correct += (final_pred == target).sum()\n",
        "\n",
        "    # Calculate final accuracy for this epsilon\n",
        "    final_acc = correct/float(len(test_loader.sampler))\n",
        "    print(\"\\nEpsilon: {}\\nTest Accuracy: {:.2f}%\\n\".format(epsilon, final_acc*100))\n",
        "\n",
        "    return final_acc.item()"
      ],
      "metadata": {
        "id": "XbqTpwvvz69S"
      },
      "execution_count": null,
      "outputs": []
    },
    {
      "cell_type": "code",
      "source": [
        "test_loader = torch.utils.data.DataLoader(\n",
        "    tv.datasets.EMNIST('data/', train=False, split=\"balanced\", download=False, transform=tv.transforms.Compose([tv.transforms.ToTensor()])),\n",
        "    batch_size=100, shuffle=True)"
      ],
      "metadata": {
        "id": "nR37TmTi0kKW"
      },
      "execution_count": null,
      "outputs": []
    },
    {
      "cell_type": "code",
      "source": [
        "final_acc = test_robustness_to_attack(ffnn, device,\n",
        "                                      test_loader, epsilon=0.1,\n",
        "                                      num_steps=0)"
      ],
      "metadata": {
        "colab": {
          "base_uri": "https://localhost:8080/",
          "height": 118,
          "referenced_widgets": [
            "bc5cf2b25d4848ff979f2693ff8290e2",
            "b91478ff2b9b4029bb7b8fc99543dcea",
            "dc33d3741b3e4d80b2f087858259c8e4",
            "10e1b061849f4df8b52749f9c876afe4",
            "4403eaecb79d44df937573ed2fb142bb",
            "c4b1beacf1334dd3996362a40401dc69",
            "d916fc960c38429c93f07b4fd2f02870",
            "5701cea4112f4c51aa1bc02b7da88173",
            "fd4018adf71b4793865139b8a81c0032",
            "32b3967f14434c2099756afdbf7f1abf",
            "c259987c6c9b494982a3cc450e38d90f"
          ]
        },
        "id": "OV4RWd3700R5",
        "outputId": "ea29aa28-2da5-4b9f-ea5f-602d0a2740ac"
      },
      "execution_count": null,
      "outputs": [
        {
          "output_type": "display_data",
          "data": {
            "text/plain": [
              "  0%|          | 0/188 [00:00<?, ?it/s]"
            ],
            "application/vnd.jupyter.widget-view+json": {
              "version_major": 2,
              "version_minor": 0,
              "model_id": "bc5cf2b25d4848ff979f2693ff8290e2"
            }
          },
          "metadata": {}
        },
        {
          "output_type": "stream",
          "name": "stdout",
          "text": [
            "\n",
            "Epsilon: 0.1\n",
            "Test Accuracy: 19.05%\n",
            "\n"
          ]
        }
      ]
    },
    {
      "cell_type": "code",
      "source": [
        "final_acc = test_robustness_to_attack(dbn_with_readout, device,\n",
        "                                      test_loader, epsilon=0.1,\n",
        "                                      num_steps=0)"
      ],
      "metadata": {
        "colab": {
          "base_uri": "https://localhost:8080/",
          "height": 118,
          "referenced_widgets": [
            "bb577ef5c80849dfb4e584d9543638b3",
            "a141fbb034c748e5910b3fe56124863f",
            "c87ff19ae1f445f19effb06a60d34ce1",
            "36902ff7cddd430f8dc173ad4fbe6c87",
            "b4c079a468754177b512ca139b74f50e",
            "012d91390e764326861416262b1f92e7",
            "39f432e38dc841478d5ec43228329eaa",
            "6bdfb9e4ea664d949b0604e047bc3c9b",
            "5eb58bfcd44540e2a6843ef12d87a446",
            "df8a1782a05446f990d96a06326b0493",
            "3f013967e1864819bec6f7c14e0afb5f"
          ]
        },
        "id": "feqbgI9e4KHv",
        "outputId": "354ea279-eb14-4b10-cdbf-17a6edf4b8f4"
      },
      "execution_count": null,
      "outputs": [
        {
          "output_type": "display_data",
          "data": {
            "text/plain": [
              "  0%|          | 0/188 [00:00<?, ?it/s]"
            ],
            "application/vnd.jupyter.widget-view+json": {
              "version_major": 2,
              "version_minor": 0,
              "model_id": "bb577ef5c80849dfb4e584d9543638b3"
            }
          },
          "metadata": {}
        },
        {
          "output_type": "stream",
          "name": "stdout",
          "text": [
            "\n",
            "Epsilon: 0.1\n",
            "Test Accuracy: 46.62%\n",
            "\n"
          ]
        }
      ]
    },
    {
      "cell_type": "code",
      "source": [
        "final_acc = test_robustness_to_attack(dbn_with_readout, device,\n",
        "                                      test_loader, epsilon=0.1,\n",
        "                                      num_steps=1)"
      ],
      "metadata": {
        "colab": {
          "base_uri": "https://localhost:8080/",
          "height": 1000,
          "referenced_widgets": [
            "2eefad3d9cb74777a5bb2363c0052ae5",
            "b24321c7cf234f3a8e1792f9df69db0f",
            "09b75f61f5314c1391a5d8d66d4bc6af",
            "07c85359ccdc40be870288bba24b8a08",
            "801b608e746b4d719a602c0f153ac005",
            "c87d0c7c09a14ac08020dffc81a5795b",
            "9facf3406d184138b1f2352dc199caac",
            "cc8d185be4354ee69a42d5b482937f51",
            "8c5097da4a4f427a9fb3583822f5ecfe",
            "db1bf8b9457d4406b91045450d84b7c3",
            "b966468d47f641a7a6731af8e441037d"
          ]
        },
        "id": "mzDAEPKz4XzW",
        "outputId": "0aa808ac-5c60-44d3-dbd9-ca044a281573"
      },
      "execution_count": null,
      "outputs": [
        {
          "output_type": "display_data",
          "data": {
            "text/plain": [
              "  0%|          | 0/188 [00:00<?, ?it/s]"
            ],
            "application/vnd.jupyter.widget-view+json": {
              "version_major": 2,
              "version_minor": 0,
              "model_id": "2eefad3d9cb74777a5bb2363c0052ae5"
            }
          },
          "metadata": {}
        },
        {
          "output_type": "stream",
          "name": "stdout",
          "text": [
            "\n",
            "Here's the original sample:\n",
            "\n"
          ]
        },
        {
          "output_type": "display_data",
          "data": {
            "text/plain": [
              "<Figure size 432x288 with 1 Axes>"
            ],
            "image/png": "[encoded data removed]"
          },
          "metadata": {
            "needs_background": "light"
          }
        },
        {
          "output_type": "stream",
          "name": "stdout",
          "text": [
            "\n",
            "Here's a perturbed sample:\n",
            "\n"
          ]
        },
        {
          "output_type": "display_data",
          "data": {
            "text/plain": [
              "<Figure size 432x288 with 1 Axes>"
            ],
            "image/png": "[encoded data removed]"
          },
          "metadata": {
            "needs_background": "light"
          }
        },
        {
          "output_type": "stream",
          "name": "stdout",
          "text": [
            "\n",
            "Here's what a 1-steps reconstructed sample looks like:\n",
            "\n"
          ]
        },
        {
          "output_type": "display_data",
          "data": {
            "text/plain": [
              "<Figure size 432x288 with 1 Axes>"
            ],
            "image/png": "[encoded data removed]"
          },
          "metadata": {
            "needs_background": "light"
          }
        },
        {
          "output_type": "stream",
          "name": "stdout",
          "text": [
            "\n",
            "Epsilon: 0.1\n",
            "Test Accuracy: 51.03%\n",
            "\n"
          ]
        }
      ]
    },
    {
      "cell_type": "markdown",
      "source": [
        "Using the function created previously we are measuring the robustness of our models to the adversarial attacks, in the case of the FFNN we can observe an accuracy of 19.05% which is very low, it means that this model is not robust enough against this attacks, the read-out trained on the hidden representation of the DBN shows 46.62% of accuracy which is more than the double than the FFNN, the top-down reconstruction from the generative model shows a better accuracy of 51.03%."
      ],
      "metadata": {
        "id": "7E3mPFyBPGVh"
      }
    },
    {
      "cell_type": "markdown",
      "source": [
        "## **Effect of the noise parameter $\\epsilon$**"
      ],
      "metadata": {
        "id": "jSrhBB0K4lwc"
      }
    },
    {
      "cell_type": "code",
      "source": [
        "epsilon_values = [0, 0.05, 0.10, 0.15, 0.20, 0.25]\n",
        "\n",
        "def test_epsilon_values_effect(model, n_steps):\n",
        "  accuracies = list()\n",
        "\n",
        "  for eps in epsilon_values:\n",
        "      acc = test_robustness_to_attack(model, device, test_loader, eps, num_steps=n_steps, verbose=False)\n",
        "      accuracies.append(acc)\n",
        "\n",
        "  return accuracies"
      ],
      "metadata": {
        "id": "xPoU98lL4h9Q"
      },
      "execution_count": null,
      "outputs": []
    },
    {
      "cell_type": "code",
      "source": [
        "%%capture\n",
        "accuracies_ffnn = test_epsilon_values_effect(ffnn, n_steps=0)\n",
        "accuracies_dbn_0 = test_epsilon_values_effect(dbn_with_readout, n_steps=0)\n",
        "accuracies_dbn_1 = test_epsilon_values_effect(dbn_with_readout, n_steps=1)"
      ],
      "metadata": {
        "id": "bx4-V_EJ4t2g"
      },
      "execution_count": null,
      "outputs": []
    },
    {
      "cell_type": "code",
      "source": [
        "fig, ax = plt.subplots(1, 1, figsize=(9, 7), sharey=True)\n",
        "\n",
        "__ = ax.axhline(0.1, color='gray', linestyle=':')\n",
        "__ = ax.plot(epsilon_values, accuracies_ffnn)\n",
        "__ = ax.plot(epsilon_values, accuracies_dbn_0)\n",
        "__ = ax.plot(epsilon_values, accuracies_dbn_1)\n",
        "__ = ax.set_xlabel(\"Strength of adversarial attack ($\\epsilon$)\")\n",
        "__ = ax.set_ylabel(\"Accuracy\")\n",
        "__ = ax.set_title(\"Robustness to adversarial attacks\", {'fontsize': 15})\n",
        "__ = ax.legend([\"Chance level\", \"FFNN\", \"DBN\", \"DBN top-down\"])"
      ],
      "metadata": {
        "colab": {
          "base_uri": "https://localhost:8080/",
          "height": 464
        },
        "id": "JL4_IU3s485R",
        "outputId": "b6345349-236e-40b1-9d96-ff617cb725e6"
      },
      "execution_count": null,
      "outputs": [
        {
          "output_type": "display_data",
          "data": {
            "text/plain": [
              "<Figure size 648x504 with 1 Axes>"
            ],
            "image/png": "[encoded data removed]"
          },
          "metadata": {
            "needs_background": "light"
          }
        }
      ]
    },
    {
      "cell_type": "markdown",
      "source": [
        "We can observe that the DBN top-down is the best among all the models, even when the strength of the adversarial attack increase is still above the threshold; the second best performance is for the DBN, and the last one is for the FFNN, which after the increase on the .1 of the epsilon value of the effect it decreases in a very rapid fashion."
      ],
      "metadata": {
        "id": "wDQ2JRFxTVtq"
      }
    },
    {
      "cell_type": "markdown",
      "source": [
        "# **Improving the DBN**"
      ],
      "metadata": {
        "id": "qpyF5ypkLLPq"
      }
    },
    {
      "cell_type": "markdown",
      "source": [
        "The goal of a Deep Belief Network (DBN) is to learn and understand data patterns. This is accomplished by training multiple layers, each of which learns to recognize and represent more complex patterns in the data. The first stage of training involves unsupervised learning to train each layer, followed by labeled data to fine-tune the network for specific tasks such as prediction or classification. The end result is a multi-layer neural network capable of making predictions based on the patterns discovered in the data."
      ],
      "metadata": {
        "id": "6lNYISQOxrMO"
      }
    },
    {
      "cell_type": "code",
      "source": [
        "dbn_emnist = DBN(visible_units=28*28,\n",
        "                hidden_units=[500, 800, 1000, 1200],\n",
        "                k=1,\n",
        "                learning_rate=0.01,\n",
        "                learning_rate_decay=True,\n",
        "                initial_momentum=0.9,\n",
        "                final_momentum=0.99,\n",
        "                weight_decay=0.001,\n",
        "                xavier_init=True,\n",
        "                increase_to_cd_k=True,\n",
        "                use_gpu=torch.cuda.is_available())"
      ],
      "metadata": {
        "id": "JNopNSwNLrUU"
      },
      "execution_count": null,
      "outputs": []
    },
    {
      "cell_type": "markdown",
      "source": [
        "The DBN has 28x28 visible units (image pixels of 28x28) and four hidden layers of 500, 800, 1000, and 1200 units. The network trains using contrastive divergence with k=1 and has a learning rate of 0.01. The network's momentum begins at 0.9 and gradually increases to 0.99. The weight decay is set to 0.001, and Xavier initialization is used. The computations are performed on a GPU."
      ],
      "metadata": {
        "id": "Vv6z7xs1x1z4"
      }
    },
    {
      "cell_type": "code",
      "source": [
        "num_epochs = 50\n",
        "batch_size = 100\n",
        "\n",
        "dbn_emnist.train_static(\n",
        "    emnist_train.data,\n",
        "    emnist_train.targets,\n",
        "    num_epochs,\n",
        "    batch_size\n",
        ")"
      ],
      "metadata": {
        "colab": {
          "base_uri": "https://localhost:8080/"
        },
        "id": "X7fVTJ5QNaKw",
        "outputId": "9a595855-a5fc-4c9c-8105-40a0bf059bd6"
      },
      "execution_count": null,
      "outputs": [
        {
          "output_type": "stream",
          "name": "stdout",
          "text": [
            "--------------------\n",
            "Training RBM layer 1\n",
            "|Epoch |avg_rec_err |std_rec_err  |mean_grad |std_grad  |\n",
            "|10    |1.0059     |0.0393       |12.4702   |0.3890     |\n",
            "|20    |0.9628     |0.0349       |6.1846   |0.1487     |\n",
            "|30    |0.9488     |0.0331       |4.1174   |0.1037     |\n",
            "|40    |0.9421     |0.0334       |3.1251   |0.0714     |\n",
            "|50    |0.9372     |0.0332       |2.4518   |0.0597     |\n",
            "--------------------\n",
            "Training RBM layer 2\n",
            "|Epoch |avg_rec_err |std_rec_err  |mean_grad |std_grad  |\n",
            "|10    |1.3630     |0.0328       |15.1769   |0.4328     |\n",
            "|20    |1.2837     |0.0324       |7.2264   |0.1692     |\n",
            "|30    |1.2705     |0.0323       |4.8665   |0.1341     |\n",
            "|40    |1.2617     |0.0314       |3.6252   |0.0868     |\n",
            "|50    |1.2596     |0.0318       |2.8584   |0.0721     |\n",
            "--------------------\n",
            "Training RBM layer 3\n",
            "|Epoch |avg_rec_err |std_rec_err  |mean_grad |std_grad  |\n",
            "|10    |0.7092     |0.0202       |21.4984   |0.7289     |\n",
            "|20    |0.6774     |0.0200       |10.5534   |0.2958     |\n",
            "|30    |0.6697     |0.0193       |7.1676   |0.2265     |\n",
            "|40    |0.6647     |0.0192       |5.2746   |0.1525     |\n",
            "|50    |0.6619     |0.0187       |4.1994   |0.1002     |\n",
            "--------------------\n",
            "Training RBM layer 4\n",
            "|Epoch |avg_rec_err |std_rec_err  |mean_grad |std_grad  |\n",
            "|10    |0.5872     |0.0146       |22.9417   |0.8781     |\n",
            "|20    |0.5603     |0.0134       |11.1795   |0.3197     |\n",
            "|30    |0.5539     |0.0136       |7.4108   |0.2997     |\n",
            "|40    |0.5520     |0.0138       |5.6463   |0.1572     |\n",
            "|50    |0.5500     |0.0137       |4.4166   |0.1124     |\n"
          ]
        }
      ]
    },
    {
      "cell_type": "markdown",
      "source": [
        "Training is divided into four stages, one for each hidden layer. The batch size is 100 and the number of training epochs is set to 50. For each hidden layer at each epoch, the output displays the average reconstruction error, standard deviation of reconstruction error, mean gradient, and standard deviation of gradient. The reconstruction error and gradients are indicators of how well the network can reconstruct the input data, and their values decrease as training progresses.\n",
        "\n",
        "The reconstruction error of the first hidden layer starts at 1.0059 and the standard deviation is 0.0393, and it decreases to 0.9372 and 0.0332 at the end of the training. The mean gradient starts at 12.4702 and the standard deviation is 0.3890, and it decreases to 2.4518. The second layer begins with a reconstruction error of 1.3630 and a standard deviation of 0.0328 and decreases to 1.2596 and 0.0318 at the end of training, while the mean gradient begins at 15.1769 and decreases to 2.8584. The third layer, starts with a reconstruction error of 0.7092 and standard deviation of 0.0202, and it decreases to 0.6619  and 0.0187 at the end of the training, the mean gradient starts at 21.4984 and standard deviation of 0.7289 and it decreases to 4.1994.The fourth layer, starts with a reconstruction error of 0.5872 and standard deviation of 0.0146, and it decreases to 0.5500  and 0.0137 at the end of the training, the mean gradient starts at 22.9417 and standard deviation of 0.8781 and it decreases to 4.4166."
      ],
      "metadata": {
        "id": "Cy48snkXyWBK"
      }
    },
    {
      "cell_type": "markdown",
      "source": [
        "## **Linear read-out**"
      ],
      "metadata": {
        "id": "BBCjG3FZOV3p"
      }
    },
    {
      "cell_type": "markdown",
      "source": [
        "The linear readout is the final step in a DBN that combines the information from previous layers to make a prediction. It uses a simple mathematical formula to combine the information and produce a single output. This is often used in regression problems where the answer is a continuous value. The formula used is optimized during training to improve the accuracy of the predictions."
      ],
      "metadata": {
        "id": "v26oopFA0Iin"
      }
    },
    {
      "cell_type": "code",
      "source": [
        "def get_kth_layer_repr(input, k, device):\n",
        "  flattened_input = input.view((input.shape[0], -1)).type(torch.FloatTensor).to(device)\n",
        "  hidden_repr, __ = dbn_emnist.rbm_layers[k].to_hidden(flattened_input)  # here we access the RBM object\n",
        "  return hidden_repr"
      ],
      "metadata": {
        "id": "ju3pjcj5OM4y"
      },
      "execution_count": null,
      "outputs": []
    },
    {
      "cell_type": "markdown",
      "source": [
        "This code defines the function \"get kth layer repr,\" which takes three arguments: input, k (hidden layer index), and device (GPU or CPU).\n",
        "The function flattens the tensor input. The input is then sent to the device. The function then invokes the \"to hidden\" method of the DBN's kth RBM object. The method returns the hidden representation of the input, which serves as the function's output."
      ],
      "metadata": {
        "id": "7NFyrAHV0TdJ"
      }
    },
    {
      "cell_type": "code",
      "source": [
        "hidden_repr_layer_1 = get_kth_layer_repr(emnist_train.data, 0, device)\n",
        "hidden_repr_layer_2 = get_kth_layer_repr(hidden_repr_layer_1, 1, device)\n",
        "hidden_repr_layer_3 = get_kth_layer_repr(hidden_repr_layer_2, 2, device)"
      ],
      "metadata": {
        "id": "u5y0QxhgNaTx"
      },
      "execution_count": null,
      "outputs": []
    },
    {
      "cell_type": "markdown",
      "source": [
        "It calls the function \"get kth layer repr\" three times, passing in the train data each time. In each call, data is used as the input, the index of the hidden layer (0,1,2 respectively), and goes to the device.\n",
        "We can use these hidden representations to classify the images."
      ],
      "metadata": {
        "id": "SsLsnQ8d0VHa"
      }
    },
    {
      "cell_type": "code",
      "source": [
        "class LinearModel(torch.nn.Module):\n",
        "  def __init__(self, last_layer_size):\n",
        "    super().__init__()\n",
        "    self.linear = torch.nn.Linear(last_layer_size, 47)\n",
        "\n",
        "  def forward(self, x):\n",
        "    return self.linear(x)"
      ],
      "metadata": {
        "id": "pfq3krWdPqxo"
      },
      "execution_count": null,
      "outputs": []
    },
    {
      "cell_type": "markdown",
      "source": [
        "This code declares the \"LinearModel\" class. This class defines a simple linear model for classification tasks using the balanced dataset's 47 classes.\n",
        "The class also defines a forward method that takes the input tensor as an argument, applies the linear layer to it, and returns the result.\n",
        "This linear model can be trained on the hidden representations obtained from the layers and used to classify the images."
      ],
      "metadata": {
        "id": "tyHkUFCU1XxD"
      }
    },
    {
      "cell_type": "code",
      "source": [
        "layer_size = dbn_emnist.rbm_layers[0].W.shape[1]\n",
        "linear1 = LinearModel(layer_size).to(device)\n",
        "\n",
        "layer_size = dbn_emnist.rbm_layers[1].W.shape[1]\n",
        "linear2 = LinearModel(layer_size).to(device)\n",
        "\n",
        "layer_size = dbn_emnist.rbm_layers[2].W.shape[1]\n",
        "linear3 = LinearModel(layer_size).to(device)"
      ],
      "metadata": {
        "id": "pIHujabjPy4Y"
      },
      "execution_count": null,
      "outputs": []
    },
    {
      "cell_type": "markdown",
      "source": [
        "This code generates three instances of the \"LinearModel\" class, one for each of the DBN's hidden layers.\n",
        "This linear model can be trained and used to classify images using the hidden representations obtained from the various layers."
      ],
      "metadata": {
        "id": "6y2AkD1p2AA-"
      }
    },
    {
      "cell_type": "code",
      "source": [
        "def train(network, input, epochs=2000):\n",
        "  optimizer = torch.optim.SGD(network.parameters(), lr=0.05)\n",
        "  loss_fn = torch.nn.CrossEntropyLoss()\n",
        "\n",
        "  for epoch in range(epochs):\n",
        "    optimizer.zero_grad()\n",
        "    predictions = network(input).squeeze()\n",
        "    targets = emnist_train.targets.reshape(predictions.shape[0])  # here are the labels\n",
        "    loss = loss_fn(predictions, targets)\n",
        "    loss.backward()\n",
        "    optimizer.step()\n",
        "\n",
        "    if epoch % 100 == 0:\n",
        "      print(\"epoch : {:3d}/{}, loss = {:.4f}\".format(epoch + 1, epochs, loss))"
      ],
      "metadata": {
        "id": "17KJmjDfP4nH"
      },
      "execution_count": null,
      "outputs": []
    },
    {
      "cell_type": "markdown",
      "source": [
        "This function train is used to train a neural network. It takes four arguments: the network, inputs, targets, and epochs (in this case, 1500).\n",
        "The function begins by defining an optimizer (SGD with a learning rate of 0.05) and a loss function (cross-entropy loss).\n",
        "Every 100 epochs, the code prints the current epoch number as well as the loss value. This allows to assess the progress of the training process and determine whether the network is overfitting or underfitting."
      ],
      "metadata": {
        "id": "fgDk1ma64ku4"
      }
    },
    {
      "cell_type": "code",
      "source": [
        "train(linear1, hidden_repr_layer_1)\n",
        "train(linear2, hidden_repr_layer_2)\n",
        "train(linear3, hidden_repr_layer_3)"
      ],
      "metadata": {
        "colab": {
          "base_uri": "https://localhost:8080/"
        },
        "id": "zuF3XAs2QGS6",
        "outputId": "55068c40-3181-42c3-997a-d6ae4a189df6"
      },
      "execution_count": null,
      "outputs": [
        {
          "output_type": "stream",
          "name": "stdout",
          "text": [
            "epoch :   1/2000, loss = 1.2679\n",
            "epoch : 101/2000, loss = 1.2533\n",
            "epoch : 201/2000, loss = 1.2400\n",
            "epoch : 301/2000, loss = 1.2278\n",
            "epoch : 401/2000, loss = 1.2164\n",
            "epoch : 501/2000, loss = 1.2059\n",
            "epoch : 601/2000, loss = 1.1961\n",
            "epoch : 701/2000, loss = 1.1869\n",
            "epoch : 801/2000, loss = 1.1783\n",
            "epoch : 901/2000, loss = 1.1702\n",
            "epoch : 1001/2000, loss = 1.1625\n",
            "epoch : 1101/2000, loss = 1.1552\n",
            "epoch : 1201/2000, loss = 1.1483\n",
            "epoch : 1301/2000, loss = 1.1417\n",
            "epoch : 1401/2000, loss = 1.1355\n",
            "epoch : 1501/2000, loss = 1.1295\n",
            "epoch : 1601/2000, loss = 1.1238\n",
            "epoch : 1701/2000, loss = 1.1183\n",
            "epoch : 1801/2000, loss = 1.1130\n",
            "epoch : 1901/2000, loss = 1.1080\n",
            "epoch :   1/2000, loss = 1.2537\n",
            "epoch : 101/2000, loss = 1.2398\n",
            "epoch : 201/2000, loss = 1.2271\n",
            "epoch : 301/2000, loss = 1.2153\n",
            "epoch : 401/2000, loss = 1.2045\n",
            "epoch : 501/2000, loss = 1.1944\n",
            "epoch : 601/2000, loss = 1.1850\n",
            "epoch : 701/2000, loss = 1.1762\n",
            "epoch : 801/2000, loss = 1.1678\n",
            "epoch : 901/2000, loss = 1.1600\n",
            "epoch : 1001/2000, loss = 1.1526\n",
            "epoch : 1101/2000, loss = 1.1456\n",
            "epoch : 1201/2000, loss = 1.1389\n",
            "epoch : 1301/2000, loss = 1.1325\n",
            "epoch : 1401/2000, loss = 1.1264\n",
            "epoch : 1501/2000, loss = 1.1206\n",
            "epoch : 1601/2000, loss = 1.1151\n",
            "epoch : 1701/2000, loss = 1.1097\n",
            "epoch : 1801/2000, loss = 1.1046\n",
            "epoch : 1901/2000, loss = 1.0997\n",
            "epoch :   1/2000, loss = 1.1957\n",
            "epoch : 101/2000, loss = 1.1830\n",
            "epoch : 201/2000, loss = 1.1714\n",
            "epoch : 301/2000, loss = 1.1607\n",
            "epoch : 401/2000, loss = 1.1508\n",
            "epoch : 501/2000, loss = 1.1415\n",
            "epoch : 601/2000, loss = 1.1329\n",
            "epoch : 701/2000, loss = 1.1248\n",
            "epoch : 801/2000, loss = 1.1172\n",
            "epoch : 901/2000, loss = 1.1100\n",
            "epoch : 1001/2000, loss = 1.1032\n",
            "epoch : 1101/2000, loss = 1.0968\n",
            "epoch : 1201/2000, loss = 1.0906\n",
            "epoch : 1301/2000, loss = 1.0848\n",
            "epoch : 1401/2000, loss = 1.0792\n",
            "epoch : 1501/2000, loss = 1.0739\n",
            "epoch : 1601/2000, loss = 1.0688\n",
            "epoch : 1701/2000, loss = 1.0639\n",
            "epoch : 1801/2000, loss = 1.0592\n",
            "epoch : 1901/2000, loss = 1.0546\n"
          ]
        }
      ]
    },
    {
      "cell_type": "markdown",
      "source": [
        "We have linear models, linear1, linear2, and linear3, using the hidden representations of the first, second, and third layers of a pre-trained model respectively. The input for each linear model is the hidden representation of the corresponding layer, and the targets are the labels of the training data. The training process is done using stochastic gradient descent (SGD) as the optimization algorithm and cross-entropy loss as the loss function. The training process is performed for 2000 epochs and the loss is printed every 100 epochs."
      ],
      "metadata": {
        "id": "WRga8Q6v6SGv"
      }
    },
    {
      "cell_type": "code",
      "source": [
        "hidden_repr_layer_1_test = get_kth_layer_repr(emnist_test.data, 0, device)\n",
        "hidden_repr_layer_2_test = get_kth_layer_repr(hidden_repr_layer_1_test, 1, device)\n",
        "hidden_repr_layer_3_test = get_kth_layer_repr(hidden_repr_layer_2_test, 2, device)"
      ],
      "metadata": {
        "id": "tyFKng3tQcvc"
      },
      "execution_count": null,
      "outputs": []
    },
    {
      "cell_type": "markdown",
      "source": [
        "These variables, \"hidden_repr_layer_1_test\", \"hidden_repr_layer_2_test\" and \"hidden_repr_layer_3_test\" store the hidden representations of the test data at different layers in the DBN."
      ],
      "metadata": {
        "id": "5Ib_eGhm6-s3"
      }
    },
    {
      "cell_type": "code",
      "source": [
        "# here we compute the predictions\n",
        "predictions_test1 = linear1(hidden_repr_layer_1_test)\n",
        "predictions_test2 = linear2(hidden_repr_layer_2_test)\n",
        "predictions_test3 = linear3(hidden_repr_layer_3_test)"
      ],
      "metadata": {
        "id": "bXsRcw43Qljw"
      },
      "execution_count": null,
      "outputs": []
    },
    {
      "cell_type": "markdown",
      "source": [
        "Here the linear models created earlier are applied to the hidden representations of the test data, and the predictions are stored in the variables.\n",
        "These predictions can then be compared to the true labels of the test data to evaluate the performance of the linear models."
      ],
      "metadata": {
        "id": "JmmDic8A8bxi"
      }
    },
    {
      "cell_type": "code",
      "source": [
        "def compute_accuracy(predictions_test, targets):\n",
        "  predictions_indices = predictions_test.max(axis=1).indices  # convert probabilities to indices\n",
        "  accuracy = (predictions_indices == targets).sum() / len(targets)\n",
        "  return accuracy.item()"
      ],
      "metadata": {
        "id": "zbf-aw3BQnDG"
      },
      "execution_count": null,
      "outputs": []
    },
    {
      "cell_type": "markdown",
      "source": [
        "The function \"compute_accuracy\" that takes in two arguments the predictions_test and the targets.\n",
        "It converts the predictions from a probability distribution to the indices of the classes that have the highest probability, and compares these indices to the true labels and average of the correct predictions. This average represents the accuracy of the predictions."
      ],
      "metadata": {
        "id": "KS1GSQrM9bh0"
      }
    },
    {
      "cell_type": "code",
      "source": [
        "compute_accuracy(predictions_test1, emnist_test.targets)"
      ],
      "metadata": {
        "colab": {
          "base_uri": "https://localhost:8080/"
        },
        "id": "nOLEbQk0QvY9",
        "outputId": "a66bde36-4a18-46db-a6a4-f55fbe587088"
      },
      "execution_count": null,
      "outputs": [
        {
          "output_type": "execute_result",
          "data": {
            "text/plain": [
              "0.6876063942909241"
            ]
          },
          "metadata": {},
          "execution_count": 37
        }
      ]
    },
    {
      "cell_type": "code",
      "source": [
        "compute_accuracy(predictions_test2, emnist_test.targets)"
      ],
      "metadata": {
        "colab": {
          "base_uri": "https://localhost:8080/"
        },
        "id": "iqhoHXWSQ4oo",
        "outputId": "619a8d8b-2a9c-4d17-ddef-478b33ebbedb"
      },
      "execution_count": null,
      "outputs": [
        {
          "output_type": "execute_result",
          "data": {
            "text/plain": [
              "0.6928723454475403"
            ]
          },
          "metadata": {},
          "execution_count": 38
        }
      ]
    },
    {
      "cell_type": "code",
      "source": [
        "compute_accuracy(predictions_test3, emnist_test.targets)"
      ],
      "metadata": {
        "colab": {
          "base_uri": "https://localhost:8080/"
        },
        "id": "QpwNguGRRWFU",
        "outputId": "a4d29245-41b1-4aa8-d406-ba81a76960fb"
      },
      "execution_count": null,
      "outputs": [
        {
          "output_type": "execute_result",
          "data": {
            "text/plain": [
              "0.7008510231971741"
            ]
          },
          "metadata": {},
          "execution_count": 39
        }
      ]
    },
    {
      "cell_type": "markdown",
      "source": [
        "Compared to the first model of DBN, the accuracies have successfully improved in the first is 68.76%, the second is 69.28%, and the third is 70.08%."
      ],
      "metadata": {
        "id": "hZVULB0f_kE5"
      }
    },
    {
      "cell_type": "markdown",
      "source": [
        "## **Comparison with a feed-forward model**"
      ],
      "metadata": {
        "id": "Hbx-sadrT8gm"
      }
    },
    {
      "cell_type": "code",
      "source": [
        "class Feedforward(torch.nn.Module):\n",
        "  def __init__(self, first_hidden_layer_size, second_hidden_layer_size, third_hidden_layer_size):\n",
        "    super().__init__()\n",
        "    self.first_hidden = torch.nn.Linear(784, first_hidden_layer_size)\n",
        "    self.second_hidden = torch.nn.Linear(first_hidden_layer_size, second_hidden_layer_size)\n",
        "    self.third_hidden = torch.nn.Linear(second_hidden_layer_size, third_hidden_layer_size)\n",
        "    self.output = torch.nn.Linear(third_hidden_layer_size, 47)\n",
        "\n",
        "  def forward(self, input):\n",
        "    relu = torch.nn.ReLU()\n",
        "    first_hidden_repr = relu(self.first_hidden(input))\n",
        "    second_hidden_repr = relu(self.second_hidden(first_hidden_repr))\n",
        "    third_hidden_repr = relu(self.third_hidden(second_hidden_repr))\n",
        "    output = self.output(third_hidden_repr)\n",
        "    return output"
      ],
      "metadata": {
        "id": "bjOnTp3wTyTI"
      },
      "execution_count": null,
      "outputs": []
    },
    {
      "cell_type": "markdown",
      "source": [
        "It defines a Feedforward neural network for classification tasks with 47 classes. It takes in the input as an argument and applies the Linear layers to it with a non-linear activation function ReLU after each linear layer and returns the output."
      ],
      "metadata": {
        "id": "gV5WT-3rCAJQ"
      }
    },
    {
      "cell_type": "code",
      "source": [
        "ffnn = Feedforward(500, 800, 1000).to(device)"
      ],
      "metadata": {
        "id": "UOpng0aMUKWW"
      },
      "execution_count": null,
      "outputs": []
    },
    {
      "cell_type": "code",
      "source": [
        "train(ffnn, emnist_train.data.reshape((112800, 784)), epochs=2000)"
      ],
      "metadata": {
        "colab": {
          "base_uri": "https://localhost:8080/"
        },
        "id": "lLOgknNEUY6-",
        "outputId": "3cea965c-5d68-4181-d4bf-8555ebb6c288"
      },
      "execution_count": null,
      "outputs": [
        {
          "output_type": "stream",
          "name": "stdout",
          "text": [
            "epoch :   1/2000, loss = 3.8503\n",
            "epoch : 101/2000, loss = 3.8299\n",
            "epoch : 201/2000, loss = 3.7726\n",
            "epoch : 301/2000, loss = 3.5108\n",
            "epoch : 401/2000, loss = 2.7781\n",
            "epoch : 501/2000, loss = 2.1051\n",
            "epoch : 601/2000, loss = 1.7672\n",
            "epoch : 701/2000, loss = 1.5843\n",
            "epoch : 801/2000, loss = 1.4605\n",
            "epoch : 901/2000, loss = 1.3738\n",
            "epoch : 1001/2000, loss = 1.3037\n",
            "epoch : 1101/2000, loss = 1.2461\n",
            "epoch : 1201/2000, loss = 1.1969\n",
            "epoch : 1301/2000, loss = 1.1528\n",
            "epoch : 1401/2000, loss = 1.1121\n",
            "epoch : 1501/2000, loss = 1.0738\n",
            "epoch : 1601/2000, loss = 1.0377\n",
            "epoch : 1701/2000, loss = 1.0036\n",
            "epoch : 1801/2000, loss = 0.9715\n",
            "epoch : 1901/2000, loss = 0.9432\n"
          ]
        }
      ]
    },
    {
      "cell_type": "code",
      "source": [
        "predictions_ffnn = ffnn(emnist_test.data.reshape((18800, 784)))"
      ],
      "metadata": {
        "id": "bX0bLRJxXBsE"
      },
      "execution_count": null,
      "outputs": []
    },
    {
      "cell_type": "code",
      "source": [
        "compute_accuracy(predictions_ffnn, emnist_test.targets)"
      ],
      "metadata": {
        "colab": {
          "base_uri": "https://localhost:8080/"
        },
        "id": "vJaiXvtyXPjL",
        "outputId": "79fa202f-58a2-4bef-e6a6-ec548f8a6bb8"
      },
      "execution_count": null,
      "outputs": [
        {
          "output_type": "execute_result",
          "data": {
            "text/plain": [
              "0.725372314453125"
            ]
          },
          "metadata": {},
          "execution_count": 44
        }
      ]
    },
    {
      "cell_type": "markdown",
      "source": [
        "We can observe that the accuracy of the FNN is 72.53%, which indeed is better than the previous FNN."
      ],
      "metadata": {
        "id": "fxXouxLhFBCF"
      }
    },
    {
      "cell_type": "markdown",
      "source": [
        "## **Robustness to noise**"
      ],
      "metadata": {
        "id": "XqsANLPpXj-n"
      }
    },
    {
      "cell_type": "code",
      "source": [
        "def inject_noise(emnist_data, noise_level):\n",
        "  random_gaussian_tensor = torch.randn(emnist_data.shape, device = device)*noise_level\n",
        "  return emnist_data + random_gaussian_tensor"
      ],
      "metadata": {
        "id": "Xt2MS6-0XbTd"
      },
      "execution_count": null,
      "outputs": []
    },
    {
      "cell_type": "markdown",
      "source": [
        "This function is used to artificially add noise (gaussian) to the training data to improve the robustness of the model."
      ],
      "metadata": {
        "id": "RtOUrh3UFWeq"
      }
    },
    {
      "cell_type": "markdown",
      "source": [
        "Plotting the noisy image:"
      ],
      "metadata": {
        "id": "HrP1O9fVGJfh"
      }
    },
    {
      "cell_type": "code",
      "source": [
        "noise_level = 0.3\n",
        "emnist_test_with_noise = inject_noise(emnist_test.data, noise_level)\n",
        "__ = plt.imshow(emnist_test_with_noise[0].reshape(28, 28).to(\"cpu\"), cmap=\"gray\")"
      ],
      "metadata": {
        "colab": {
          "base_uri": "https://localhost:8080/",
          "height": 265
        },
        "id": "iA3edR2_XuIL",
        "outputId": "34d6cc5d-d04d-4fae-b3f4-ef3061f86f69"
      },
      "execution_count": null,
      "outputs": [
        {
          "output_type": "display_data",
          "data": {
            "text/plain": [
              "<Figure size 432x288 with 1 Axes>"
            ],
            "image/png": "[encoded data removed]"
          },
          "metadata": {
            "needs_background": "light"
          }
        }
      ]
    },
    {
      "cell_type": "code",
      "source": [
        "def get_accuracy_values_at_noise_level(noise_level):\n",
        "\n",
        "  emnist_test_with_noise = inject_noise(emnist_test.data, noise_level)  # first, let's create noisy test images\n",
        "\n",
        "  hidden_repr_layer_1_noisy = get_kth_layer_repr(emnist_test_with_noise, 0, device)  # here we compute the DBN representations\n",
        "  hidden_repr_layer_2_noisy = get_kth_layer_repr(hidden_repr_layer_1_noisy, 1, device)\n",
        "  hidden_repr_layer_3_noisy = get_kth_layer_repr(hidden_repr_layer_2_noisy, 2, device)\n",
        "\n",
        "  predictions_first_hidden_noisy = linear1(hidden_repr_layer_1_noisy)  # here we use the previously-trained read-out classifiers\n",
        "  predictions_second_hidden_noisy = linear2(hidden_repr_layer_2_noisy)\n",
        "  predictions_third_hidden_noisy = linear3(hidden_repr_layer_3_noisy)\n",
        "\n",
        "  accuracy_first_hidden = compute_accuracy(predictions_first_hidden_noisy, emnist_test.targets)\n",
        "  accuracy_second_hidden = compute_accuracy(predictions_second_hidden_noisy, emnist_test.targets)\n",
        "  accuracy_third_hidden = compute_accuracy(predictions_third_hidden_noisy, emnist_test.targets)\n",
        "\n",
        "  predictions_ffnn_noisy = ffnn(emnist_test_with_noise.reshape((18800, 784)))  # we repeat a similar process for the feed-forward model\n",
        "  accuracy_ffnn = compute_accuracy(predictions_ffnn_noisy, emnist_test.targets)\n",
        "\n",
        "  return accuracy_first_hidden, accuracy_second_hidden, accuracy_third_hidden, accuracy_ffnn"
      ],
      "metadata": {
        "id": "-Evh5-u6X3mN"
      },
      "execution_count": null,
      "outputs": []
    },
    {
      "cell_type": "code",
      "source": [
        "acc = get_accuracy_values_at_noise_level(0.3);\n",
        "print(\"Accuracy of H1 read-out: %.3f\" % acc[0])\n",
        "print(\"Accuracy of H2 read-out: %.3f\" % acc[1])\n",
        "print(\"Accuracy of H3 read-out: %.3f\" % acc[2])\n",
        "print(\"Accuracy of FF network : %.3f\" % acc[3])"
      ],
      "metadata": {
        "colab": {
          "base_uri": "https://localhost:8080/"
        },
        "id": "tgrgoLoUYDm8",
        "outputId": "97812a4e-bb7e-48e2-89d6-6a004bfd8cd9"
      },
      "execution_count": null,
      "outputs": [
        {
          "output_type": "stream",
          "name": "stdout",
          "text": [
            "Accuracy of H1 read-out: 0.656\n",
            "Accuracy of H2 read-out: 0.678\n",
            "Accuracy of H3 read-out: 0.690\n",
            "Accuracy of FF network : 0.677\n"
          ]
        }
      ]
    },
    {
      "cell_type": "markdown",
      "source": [
        "The function returns the accuracy values for the 4 models. We can notice an improvement in all the models with respest to the ones above.\n",
        "The accuracy values are less consistent between them respect to the last models, for the first one is observed 65.6%, for the second 67.8%, the third maintains the highest accuracy which is 69% and lastly the correpondant to the FNN 67.7% which with the improvement becomes more powerful than the classifier 1, and almost at the same level as the second."
      ],
      "metadata": {
        "id": "njF-UcwzH59U"
      }
    },
    {
      "cell_type": "code",
      "source": [
        "def plot_noise_robustness_curves(noise_levels):\n",
        "  accuracy_values_first_hidden = []\n",
        "  accuracy_values_second_hidden = []\n",
        "  accuracy_values_third_hidden = []\n",
        "  accuracy_values_ffnn = []\n",
        "\n",
        "  for noise_level in noise_levels:\n",
        "    acc = get_accuracy_values_at_noise_level(noise_level)\n",
        "    accuracy_values_first_hidden.append(acc[0])\n",
        "    accuracy_values_second_hidden.append(acc[1])\n",
        "    accuracy_values_third_hidden.append(acc[2])\n",
        "    accuracy_values_ffnn.append(acc[3])\n",
        "\n",
        "  fig, ax = plt.subplots()\n",
        "  ax.plot(range(len(noise_levels)), accuracy_values_first_hidden)\n",
        "  ax.plot(range(len(noise_levels)), accuracy_values_second_hidden)\n",
        "  ax.plot(range(len(noise_levels)), accuracy_values_third_hidden)\n",
        "  ax.plot(range(len(noise_levels)), accuracy_values_ffnn)\n",
        "\n",
        "  ax.set_title(\"Robustness to noise\")\n",
        "  ax.set_xlabel(\"Noise level (%)\")\n",
        "  ax.set_ylabel(\"Accuracy\")\n",
        "  plt.xticks(range(len(noise_levels)), [int(l*100) for l in noise_levels])\n",
        "  plt.legend([\"First hidden\", \"Second hidden\", \"Third hidden\", \"FFNN\"])"
      ],
      "metadata": {
        "id": "CtQYQpPaYVUy"
      },
      "execution_count": null,
      "outputs": []
    },
    {
      "cell_type": "code",
      "source": [
        "noise_levels = [0, 0.1, 0.2, 0.3, 0.4, 0.5, 0.6, 0.7, 0.8, 0.9, 1.0, 1.1, 1.2, 1.3]\n",
        "plot_noise_robustness_curves(noise_levels)"
      ],
      "metadata": {
        "colab": {
          "base_uri": "https://localhost:8080/",
          "height": 295
        },
        "id": "-gKq9jIWYWTw",
        "outputId": "30d41d5b-2b36-4178-f134-24be2d88e7ec"
      },
      "execution_count": null,
      "outputs": [
        {
          "output_type": "display_data",
          "data": {
            "text/plain": [
              "<Figure size 432x288 with 1 Axes>"
            ],
            "image/png": "[encoded data removed]"
          },
          "metadata": {
            "needs_background": "light"
          }
        }
      ]
    },
    {
      "cell_type": "markdown",
      "source": [
        "We observe a generalized increase in the performance of all the models concerning the first models without the modifications. It is observed that the model in this case, which is more robust to the noise, is the second hidden but performs slightly better than the third hidden. On the other hand, the first hidden and the FFNN have the worst performance, with the same output as before."
      ],
      "metadata": {
        "id": "h_j49iKPJNuP"
      }
    },
    {
      "cell_type": "markdown",
      "source": [
        "## **Perturbing the models with adversarial attacks**"
      ],
      "metadata": {
        "id": "KhF79qNfY9p3"
      }
    },
    {
      "cell_type": "code",
      "source": [
        "def fgsm_attack(image, epsilon, data_grad):\n",
        "    # Collect the element-wise sign of the data gradient\n",
        "    sign_data_grad = data_grad.sign()\n",
        "\n",
        "    # Create the perturbed image by adjusting each pixel of the input image\n",
        "    perturbed_image = image + epsilon*sign_data_grad\n",
        "\n",
        "    # Adding clipping to maintain [0,1] range\n",
        "    perturbed_image = torch.clamp(perturbed_image, 0, 1)\n",
        "\n",
        "    # Return the perturbed image\n",
        "    return perturbed_image"
      ],
      "metadata": {
        "id": "j_5uUKJgYjXE"
      },
      "execution_count": null,
      "outputs": []
    },
    {
      "cell_type": "markdown",
      "source": [
        "This function takes as inputs the image, the epsilon (the value we are going to use to modify the images), and the data_grad, which is the sign of the gradient, and it will return the perturbed image, with the minor modification to confuse our model to perform the classification correctly."
      ],
      "metadata": {
        "id": "kOLEs3ueL8fK"
      }
    },
    {
      "cell_type": "markdown",
      "source": [
        "## **Adversarial Samples**"
      ],
      "metadata": {
        "id": "w9Bu2PQ-ZTyh"
      }
    },
    {
      "cell_type": "code",
      "source": [
        "class DBNWithReadOut(torch.nn.Module):\n",
        "    def __init__(self, dbn_emnist, readouts, readout_level=0):\n",
        "        super().__init__()\n",
        "        self.readouts = readouts\n",
        "        self.dbn_emnist = dbn_emnist\n",
        "        self._require_grad()\n",
        "        self.readout_level = readout_level\n",
        "\n",
        "    def _require_grad(self):\n",
        "      for rbm in self.dbn_emnist.rbm_layers:\n",
        "        rbm.W.requires_grad_()\n",
        "        rbm.h_bias.requires_grad_()\n",
        "\n",
        "    def forward(self, image):\n",
        "      \"\"\"This forward pass uses probabilities instead of samples as RBM outputs\n",
        "       to backpropagate the gradient\"\"\"\n",
        "      p_v = image\n",
        "      hidden_states = []\n",
        "      for rbm in self.dbn_emnist.rbm_layers:\n",
        "        p_v = p_v.view((p_v.shape[0], -1))  # flatten\n",
        "        p_v, v = rbm(p_v)\n",
        "        hidden_states.append(p_v)\n",
        "      return self.readouts[self.readout_level].forward(hidden_states[self.readout_level])"
      ],
      "metadata": {
        "id": "GkCFC9DQZL5M"
      },
      "execution_count": null,
      "outputs": []
    },
    {
      "cell_type": "markdown",
      "source": [
        "This is an implementation of a DBN with readout, a type of generative deep learning model. The class has two main components: the DBN and the readout, which is a neural network layer responsible for the final classification. The DBN and readout are combined to form a complete image classification model. The forward method implements the network's forward pass, which takes an input image and returns the final classification result."
      ],
      "metadata": {
        "id": "rDl716ceNZwC"
      }
    },
    {
      "cell_type": "code",
      "source": [
        "dbn_with_readout = DBNWithReadOut(dbn_emnist, [linear1, linear2, linear3], readout_level=2)"
      ],
      "metadata": {
        "id": "EJVNOqLkZbws"
      },
      "execution_count": null,
      "outputs": []
    },
    {
      "cell_type": "code",
      "source": [
        "test_sample_idx = 1\n",
        "test_image = emnist_test.data[test_sample_idx].reshape(1, 784)\n",
        "__ = plt.imshow(test_image.reshape(28,28).to('cpu'))"
      ],
      "metadata": {
        "colab": {
          "base_uri": "https://localhost:8080/",
          "height": 265
        },
        "id": "uxi-uX8uZxb5",
        "outputId": "9786a936-0f17-456e-8e10-c381379ae720"
      },
      "execution_count": null,
      "outputs": [
        {
          "output_type": "display_data",
          "data": {
            "text/plain": [
              "<Figure size 432x288 with 1 Axes>"
            ],
            "image/png": "[encoded data removed]"
          },
          "metadata": {
            "needs_background": "light"
          }
        }
      ]
    },
    {
      "cell_type": "code",
      "source": [
        "attacked_model = ffnn"
      ],
      "metadata": {
        "id": "vZmUq0K6Z7F1"
      },
      "execution_count": null,
      "outputs": []
    },
    {
      "cell_type": "code",
      "source": [
        "attacked_model = dbn_with_readout"
      ],
      "metadata": {
        "id": "Ls5wZkuUaCxM"
      },
      "execution_count": null,
      "outputs": []
    },
    {
      "cell_type": "code",
      "source": [
        "test_image.requires_grad_()\n",
        "model_outputs = attacked_model(test_image)\n",
        "prediction = torch.argmax(model_outputs)\n",
        "print(f\"The prediction of the model for this clean sample is {prediction}.\")"
      ],
      "metadata": {
        "colab": {
          "base_uri": "https://localhost:8080/"
        },
        "id": "d-JZi-qSaLSt",
        "outputId": "ac3ee80f-d7e1-467f-c8be-86499cbf520c"
      },
      "execution_count": null,
      "outputs": [
        {
          "output_type": "stream",
          "name": "stdout",
          "text": [
            "The prediction of the model for this clean sample is 39.\n"
          ]
        }
      ]
    },
    {
      "cell_type": "code",
      "source": [
        "epsilon = 0.2  # define strenght of the attack\n",
        "test_image_label = emnist_test.targets[test_sample_idx].unsqueeze(0)  # get ground truth label for that image\n",
        "loss_value = torch.nn.functional.cross_entropy(model_outputs, test_image_label)  # get loss value\n",
        "attacked_model.zero_grad()\n",
        "loss_value.backward()\n",
        "image_grad = test_image.grad.data  # get the gradient of the pixels w.r.t. the loss\n",
        "perturbed_image = fgsm_attack(test_image, epsilon, image_grad)\n",
        "\n",
        "perturbed_image_np = perturbed_image.detach().to('cpu').numpy()\n",
        "__ = plt.imshow(perturbed_image_np.reshape(28,28))"
      ],
      "metadata": {
        "colab": {
          "base_uri": "https://localhost:8080/",
          "height": 265
        },
        "id": "uZyQTE9GaaMC",
        "outputId": "befa5c26-d1ed-4656-bb40-0c438d933334"
      },
      "execution_count": null,
      "outputs": [
        {
          "output_type": "display_data",
          "data": {
            "text/plain": [
              "<Figure size 432x288 with 1 Axes>"
            ],
            "image/png": "[encoded data removed]"
          },
          "metadata": {
            "needs_background": "light"
          }
        }
      ]
    },
    {
      "cell_type": "code",
      "source": [
        "model_outputs = attacked_model(perturbed_image.view((perturbed_image.shape[0], -1)))\n",
        "print(f\"The prediction of the model for the perturbed sample is {torch.argmax(model_outputs)}.\")"
      ],
      "metadata": {
        "colab": {
          "base_uri": "https://localhost:8080/"
        },
        "id": "nC2_8PEPbAbj",
        "outputId": "0fe5c7e9-e3bb-4c00-bf18-1c9ea2ad400e"
      },
      "execution_count": null,
      "outputs": [
        {
          "output_type": "stream",
          "name": "stdout",
          "text": [
            "The prediction of the model for the perturbed sample is 0.\n"
          ]
        }
      ]
    },
    {
      "cell_type": "markdown",
      "source": [
        "We are attacking the models created previously with adversarial examples. In this case, we are printing the visualizations of the modified images and the outputs, which correctly have been modified by the adversarial attack; in this case, even if, to the human eye, the modifications to the variables are not perceptible, we are cheating the model, and the outputs do not correspond with the correct classification."
      ],
      "metadata": {
        "id": "CngM4n1RO7Uc"
      }
    },
    {
      "cell_type": "markdown",
      "source": [
        "##**Resisting to adversarial attacks**"
      ],
      "metadata": {
        "id": "y_PJqACdbym1"
      }
    },
    {
      "cell_type": "code",
      "source": [
        "def test_robustness_to_attack(model, device, test_loader, epsilon, num_steps=0, verbose=True):\n",
        "    correct = 0\n",
        "    print_reconstruction = num_steps > 0\n",
        "\n",
        "    for data, target in tqdm(test_loader):\n",
        "        data, target = data.to(device), target.to(device)\n",
        "        data = data.reshape(-1, 784)\n",
        "        data.requires_grad = True  # Important for Attack\n",
        "\n",
        "        output = model.forward(data)\n",
        "\n",
        "        init_pred = torch.argmax(output)\n",
        "\n",
        "        if (print_reconstruction and verbose):\n",
        "          print(\"\\nHere's the original sample:\\n\")\n",
        "          plt.imshow(data[0].detach().to('cpu').numpy().reshape(28,28))\n",
        "          plt.show()\n",
        "\n",
        "        loss = functional.nll_loss(output, target)\n",
        "        model.zero_grad()\n",
        "        loss.backward()\n",
        "        data_grad = data.grad.data  # collect the gradient of the input data\n",
        "        perturbed_data = fgsm_attack(data, epsilon, data_grad)\n",
        "\n",
        "        if (print_reconstruction and verbose):\n",
        "            print(\"\\nHere's a perturbed sample:\\n\")\n",
        "            plt.imshow(perturbed_data[0].detach().to('cpu').numpy().reshape(28,28))\n",
        "            plt.show()\n",
        "\n",
        "\n",
        "        # If requested, reconstruct the input iterating forward-backward dynamics\n",
        "        if num_steps > 0:\n",
        "            for __ in range(0, num_steps):\n",
        "                perturbed_data, __ = model.dbn_emnist.reconstruct(perturbed_data)\n",
        "            if (print_reconstruction and verbose):\n",
        "                print(f\"\\nHere's what a {num_steps}-steps reconstructed sample looks like:\\n\")\n",
        "                plt.imshow(perturbed_data[0].detach().to('cpu').numpy().reshape(28,28))\n",
        "                plt.show()\n",
        "                print_reconstruction = False\n",
        "\n",
        "        # Re-classify the perturbed image\n",
        "        output = model(perturbed_data)\n",
        "\n",
        "        # Check for success\n",
        "        # get the index of the max element in the output\n",
        "        final_pred = output.max(1, keepdim=True)[1]\n",
        "        final_pred = output.argmax(-1)\n",
        "        correct += (final_pred == target).sum()\n",
        "\n",
        "    # Calculate final accuracy for this epsilon\n",
        "    final_acc = correct/float(len(test_loader.sampler))\n",
        "    print(\"\\nEpsilon: {}\\nTest Accuracy: {:.2f}%\\n\".format(epsilon, final_acc*100))\n",
        "\n",
        "    return final_acc.item()"
      ],
      "metadata": {
        "id": "6kSzsCfDbigu"
      },
      "execution_count": null,
      "outputs": []
    },
    {
      "cell_type": "code",
      "source": [
        "test_loader = torch.utils.data.DataLoader(\n",
        "    tv.datasets.EMNIST('data/', train=False, split=\"balanced\", download=False, transform=tv.transforms.Compose([tv.transforms.ToTensor()])),\n",
        "    batch_size=100, shuffle=True)"
      ],
      "metadata": {
        "id": "sg8u7qVib_R_"
      },
      "execution_count": null,
      "outputs": []
    },
    {
      "cell_type": "code",
      "source": [
        "final_acc = test_robustness_to_attack(ffnn, device,\n",
        "                                      test_loader, epsilon=0.1,\n",
        "                                      num_steps=0)"
      ],
      "metadata": {
        "colab": {
          "base_uri": "https://localhost:8080/",
          "height": 118,
          "referenced_widgets": [
            "f938ac3cc1434007910fe8c8bfb72e9a",
            "8cba9e0cde1e4ce4a328f694521825d2",
            "6e6132b9029547deac579b03244187b6",
            "14c0f88c5c8441199467a99151c78ca0",
            "c85ad582951f4e9a8c4c7c344017778b",
            "623941f5b7564636853dae6afbe96040",
            "bc8d3d41b80f4ea5b5d3d65b99fedc7b",
            "9ee7fccd9d724fba8de2a33e67b6dcd8",
            "ae1b5657be6c48a08c9843a7b9c0742c",
            "bf9885ad035d44d897172295bffcfc43",
            "9bb1ec9e47d144ef8b3650b95bcb3d68"
          ]
        },
        "id": "Y0iVOLhwcIbg",
        "outputId": "5c96a8d6-68d8-4132-93c4-3e22bd2ca130"
      },
      "execution_count": null,
      "outputs": [
        {
          "output_type": "display_data",
          "data": {
            "text/plain": [
              "  0%|          | 0/188 [00:00<?, ?it/s]"
            ],
            "application/vnd.jupyter.widget-view+json": {
              "version_major": 2,
              "version_minor": 0,
              "model_id": "f938ac3cc1434007910fe8c8bfb72e9a"
            }
          },
          "metadata": {}
        },
        {
          "output_type": "stream",
          "name": "stdout",
          "text": [
            "\n",
            "Epsilon: 0.1\n",
            "Test Accuracy: 20.29%\n",
            "\n"
          ]
        }
      ]
    },
    {
      "cell_type": "code",
      "source": [
        "final_acc = test_robustness_to_attack(dbn_with_readout, device,\n",
        "                                      test_loader, epsilon=0.1,\n",
        "                                      num_steps=0)"
      ],
      "metadata": {
        "colab": {
          "base_uri": "https://localhost:8080/",
          "height": 118,
          "referenced_widgets": [
            "a94dbbe7b51f493994769ff62329557d",
            "7d3c19ffa99a443495c886fb69a61e78",
            "1f2dc1c14bb34c1b9bae0947aede184b",
            "a755f4b9b7c24b1d9935db83e6699e1c",
            "b129637d1863451a8220bc4f92c4e839",
            "6b0bd4255bc449e1a7cf2d6cb7c5decb",
            "9384c538c8724afda2c872dfb04d3012",
            "e80e4292eccb4d568696cb618d8b095b",
            "12613ad060f14a0ea3f463911ee2c6b0",
            "352be0df1fcb48758a13f7afe1c1045e",
            "b12e4a4c1abd4089be05c31cd5825835"
          ]
        },
        "id": "BCvjIORVcT2S",
        "outputId": "9f557254-fc37-4135-f104-9a4201ada8fc"
      },
      "execution_count": null,
      "outputs": [
        {
          "output_type": "display_data",
          "data": {
            "text/plain": [
              "  0%|          | 0/188 [00:00<?, ?it/s]"
            ],
            "application/vnd.jupyter.widget-view+json": {
              "version_major": 2,
              "version_minor": 0,
              "model_id": "a94dbbe7b51f493994769ff62329557d"
            }
          },
          "metadata": {}
        },
        {
          "output_type": "stream",
          "name": "stdout",
          "text": [
            "\n",
            "Epsilon: 0.1\n",
            "Test Accuracy: 47.78%\n",
            "\n"
          ]
        }
      ]
    },
    {
      "cell_type": "code",
      "source": [
        "final_acc = test_robustness_to_attack(dbn_with_readout, device,\n",
        "                                      test_loader, epsilon=0.1,\n",
        "                                      num_steps=1)"
      ],
      "metadata": {
        "colab": {
          "base_uri": "https://localhost:8080/",
          "height": 1000,
          "referenced_widgets": [
            "03743bc2831c4b8481eab864b65aa146",
            "b064e0c5107f45dca06955470319bac1",
            "b5dba2d4c8fc4e58a78dcc5843697960",
            "672fa160d09449a2b42a1420c7e5af57",
            "86f386d2fbcb4d8a85a668bc7dea89c9",
            "64887244febc4ddfae05b3eb4c9e7b77",
            "21a77dbe7d9b4fb3adc2ba32362c2768",
            "cdfe86a85c084d3ab4da6b6cc7e7937d",
            "2b3d3faeba394b8b8356d42e94a26153",
            "eacceb06c9eb4658accc130a248599d9",
            "f38c582fdd9a422f8d68f005565739f0"
          ]
        },
        "id": "7Fji0LF1ceaj",
        "outputId": "957fbc10-1134-473e-ca14-1b3b41b64a38"
      },
      "execution_count": null,
      "outputs": [
        {
          "output_type": "display_data",
          "data": {
            "text/plain": [
              "  0%|          | 0/188 [00:00<?, ?it/s]"
            ],
            "application/vnd.jupyter.widget-view+json": {
              "version_major": 2,
              "version_minor": 0,
              "model_id": "03743bc2831c4b8481eab864b65aa146"
            }
          },
          "metadata": {}
        },
        {
          "output_type": "stream",
          "name": "stdout",
          "text": [
            "\n",
            "Here's the original sample:\n",
            "\n"
          ]
        },
        {
          "output_type": "display_data",
          "data": {
            "text/plain": [
              "<Figure size 432x288 with 1 Axes>"
            ],
            "image/png": "[encoded data removed]"
          },
          "metadata": {
            "needs_background": "light"
          }
        },
        {
          "output_type": "stream",
          "name": "stdout",
          "text": [
            "\n",
            "Here's a perturbed sample:\n",
            "\n"
          ]
        },
        {
          "output_type": "display_data",
          "data": {
            "text/plain": [
              "<Figure size 432x288 with 1 Axes>"
            ],
            "image/png": "[encoded data removed]"
          },
          "metadata": {
            "needs_background": "light"
          }
        },
        {
          "output_type": "stream",
          "name": "stdout",
          "text": [
            "\n",
            "Here's what a 1-steps reconstructed sample looks like:\n",
            "\n"
          ]
        },
        {
          "output_type": "display_data",
          "data": {
            "text/plain": [
              "<Figure size 432x288 with 1 Axes>"
            ],
            "image/png": "[encoded data removed]"
          },
          "metadata": {
            "needs_background": "light"
          }
        },
        {
          "output_type": "stream",
          "name": "stdout",
          "text": [
            "\n",
            "Epsilon: 0.1\n",
            "Test Accuracy: 55.43%\n",
            "\n"
          ]
        }
      ]
    },
    {
      "cell_type": "markdown",
      "source": [
        "With the new parameters using for the models, we can observe that it has improved the robustness of the models to the adversarial attacks, in the case of the FFNN we can observe an accuracy of 20.29% which is very low, it means that this model is not robust enough against this attacks, the read-out trained on the hidden representation of the DBN shows 47.78% of accuracy which is more than the double than the FFNN, the top-down reconstruction from the generative model shows a better accuracy of 55.43% which is the highest among all of them."
      ],
      "metadata": {
        "id": "1uH7incCRUGr"
      }
    },
    {
      "cell_type": "markdown",
      "source": [
        "## **Effect of the noise parameter $\\epsilon$**"
      ],
      "metadata": {
        "id": "d029QpPdc8Sm"
      }
    },
    {
      "cell_type": "code",
      "source": [
        "epsilon_values = [0, 0.05, 0.10, 0.15, 0.20, 0.25]\n",
        "\n",
        "def test_epsilon_values_effect(model, n_steps):\n",
        "  accuracies = list()\n",
        "\n",
        "  for eps in epsilon_values:\n",
        "      acc = test_robustness_to_attack(model, device, test_loader, eps, num_steps=n_steps, verbose=False)\n",
        "      accuracies.append(acc)\n",
        "\n",
        "  return accuracies"
      ],
      "metadata": {
        "id": "XFvfuXoBcuGU"
      },
      "execution_count": null,
      "outputs": []
    },
    {
      "cell_type": "code",
      "source": [
        "%%capture\n",
        "accuracies_ffnn = test_epsilon_values_effect(ffnn, n_steps=0)\n",
        "accuracies_dbn_0 = test_epsilon_values_effect(dbn_with_readout, n_steps=0)\n",
        "accuracies_dbn_1 = test_epsilon_values_effect(dbn_with_readout, n_steps=1)"
      ],
      "metadata": {
        "id": "ynYUV8-KeE2a"
      },
      "execution_count": null,
      "outputs": []
    },
    {
      "cell_type": "code",
      "source": [
        "fig, ax = plt.subplots(1, 1, figsize=(9, 7), sharey=True)\n",
        "\n",
        "__ = ax.axhline(0.1, color='gray', linestyle=':')\n",
        "__ = ax.plot(epsilon_values, accuracies_ffnn)\n",
        "__ = ax.plot(epsilon_values, accuracies_dbn_0)\n",
        "__ = ax.plot(epsilon_values, accuracies_dbn_1)\n",
        "__ = ax.set_xlabel(\"Strength of adversarial attack ($\\epsilon$)\")\n",
        "__ = ax.set_ylabel(\"Accuracy\")\n",
        "__ = ax.set_title(\"Robustness to adversarial attacks\", {'fontsize': 15})\n",
        "__ = ax.legend([\"Chance level\", \"FFNN\", \"DBN\", \"DBN top-down\"])"
      ],
      "metadata": {
        "colab": {
          "base_uri": "https://localhost:8080/",
          "height": 464
        },
        "id": "y3YhieSGe_N-",
        "outputId": "912f0e6f-2f38-42c3-f773-4b20ccd62009"
      },
      "execution_count": null,
      "outputs": [
        {
          "output_type": "display_data",
          "data": {
            "text/plain": [
              "<Figure size 648x504 with 1 Axes>"
            ],
            "image/png": "[encoded data removed]"
          },
          "metadata": {
            "needs_background": "light"
          }
        }
      ]
    },
    {
      "cell_type": "markdown",
      "source": [
        "We can observe a slight improvement in the robustness of all the models. The DBN top-down is the best among all the models, even when the strength of the adversarial attack increase is still above the threshold; the second best performance is for the DBN, and the last one is for the FFNN, but now we can notice the rapid decrease in the robustness reaching an epsilon value of 0.14 approximately."
      ],
      "metadata": {
        "id": "EtZ8EBdbUP6l"
      }
    },
    {
      "cell_type": "markdown",
      "source": [
        "# **CONCLUSIONS**"
      ],
      "metadata": {
        "id": "SCJxixi8U7aJ"
      }
    },
    {
      "cell_type": "markdown",
      "source": [
        "In the development of this work I performed two different configurations for the models, in the first DBN I used 28x28 visible units (image pixels of 28x28) and three hidden layers of 400, 500, and 800 units. The network trains using contrastive divergence with k=1 and has a learning rate of 0.1. The network's momentum begins at 0.5 and gradually increases to 0.95. The weight decay is set to 0.0001, and no Xavier initialization is used. The computations are performed on a GPU. With this DBN I performed three read-out classifiers, subsequentely I developed a FFNN using 500 neurons in the first hidden layer, 800 neurons in the second hidden layer, and 1000 neurons in the final hidden layer. \\\\\n",
        "In the searching of an improvement on the general performance I modified the DBN with the following changes 28x28 visible units (image pixels of 28x28) and four hidden layers of 500, 800, 1000, and 1200 units. The network trains using contrastive divergence with k=1 and has a learning rate of 0.01. The network's momentum begins at 0.9 and gradually increases to 0.99. The weight decay is set to 0.001, and Xavier initialization is used. The computations are performed on a GPU and for the FFNN I used three hidden layers of 500, 800, 1000 units respectively, and 2000 of epochs. \\\\\n",
        "The best performance among all the models to be robust to the noise was the second hidden with the second configuration with an accuracy of 67.8% and the model most robust against the adversarial attacks was the DBN top-down with also the second configuration and 55.43% of accuracy. \\\\"
      ],
      "metadata": {
        "id": "V7PFPqUeU_t2"
      }
    },
    {
      "cell_type": "markdown",
      "source": [
        "# **REFERENCES**"
      ],
      "metadata": {
        "id": "gRK3qifjVEpO"
      }
    },
    {
      "cell_type": "markdown",
      "source": [
        "Cohen, G., Afshar, S., Tapson, J., & van Schaik, A. (2017). EMNIST: an extension of MNIST to handwritten letters. Retrieved from http://arxiv.org/abs/1702.05373"
      ],
      "metadata": {
        "id": "-CsmwHitVKYe"
      }
    }
  ],
  "metadata": {
    "accelerator": "GPU",
    "colab": {
      "provenance": []
    },
    "kernelspec": {
      "display_name": "Python 3",
      "language": "python",
      "name": "python3"
    },
    "language_info": {
      "codemirror_mode": {
        "name": "ipython",
        "version": 3
      },
      "file_extension": ".py",
      "mimetype": "text/x-python",
      "name": "python",
      "nbconvert_exporter": "python",
      "pygments_lexer": "ipython3",
      "version": "3.9.6 (tags/v3.9.6:db3ff76, Jun 28 2021, 15:26:21) [MSC v.1929 64 bit (AMD64)]"
    },
    "vscode": {
      "interpreter": {
        "hash": "4fed4f27c028dbeed0a17a12cf60ce88c6cda0780d4d4284cbf4a0c443df7881"
      }
    },
    "widgets": {
      "application/vnd.jupyter.widget-state+json": {
        "bc5cf2b25d4848ff979f2693ff8290e2": {
          "model_module": "@jupyter-widgets/controls",
          "model_name": "HBoxModel",
          "model_module_version": "1.5.0",
          "state": {
            "_dom_classes": [],
            "_model_module": "@jupyter-widgets/controls",
            "_model_module_version": "1.5.0",
            "_model_name": "HBoxModel",
            "_view_count": null,
            "_view_module": "@jupyter-widgets/controls",
            "_view_module_version": "1.5.0",
            "_view_name": "HBoxView",
            "box_style": "",
            "children": [
              "IPY_MODEL_b91478ff2b9b4029bb7b8fc99543dcea",
              "IPY_MODEL_dc33d3741b3e4d80b2f087858259c8e4",
              "IPY_MODEL_10e1b061849f4df8b52749f9c876afe4"
            ],
            "layout": "IPY_MODEL_4403eaecb79d44df937573ed2fb142bb"
          }
        },
        "b91478ff2b9b4029bb7b8fc99543dcea": {
          "model_module": "@jupyter-widgets/controls",
          "model_name": "HTMLModel",
          "model_module_version": "1.5.0",
          "state": {
            "_dom_classes": [],
            "_model_module": "@jupyter-widgets/controls",
            "_model_module_version": "1.5.0",
            "_model_name": "HTMLModel",
            "_view_count": null,
            "_view_module": "@jupyter-widgets/controls",
            "_view_module_version": "1.5.0",
            "_view_name": "HTMLView",
            "description": "",
            "description_tooltip": null,
            "layout": "IPY_MODEL_c4b1beacf1334dd3996362a40401dc69",
            "placeholder": "​",
            "style": "IPY_MODEL_d916fc960c38429c93f07b4fd2f02870",
            "value": "100%"
          }
        },
        "dc33d3741b3e4d80b2f087858259c8e4": {
          "model_module": "@jupyter-widgets/controls",
          "model_name": "FloatProgressModel",
          "model_module_version": "1.5.0",
          "state": {
            "_dom_classes": [],
            "_model_module": "@jupyter-widgets/controls",
            "_model_module_version": "1.5.0",
            "_model_name": "FloatProgressModel",
            "_view_count": null,
            "_view_module": "@jupyter-widgets/controls",
            "_view_module_version": "1.5.0",
            "_view_name": "ProgressView",
            "bar_style": "success",
            "description": "",
            "description_tooltip": null,
            "layout": "IPY_MODEL_5701cea4112f4c51aa1bc02b7da88173",
            "max": 188,
            "min": 0,
            "orientation": "horizontal",
            "style": "IPY_MODEL_fd4018adf71b4793865139b8a81c0032",
            "value": 188
          }
        },
        "10e1b061849f4df8b52749f9c876afe4": {
          "model_module": "@jupyter-widgets/controls",
          "model_name": "HTMLModel",
          "model_module_version": "1.5.0",
          "state": {
            "_dom_classes": [],
            "_model_module": "@jupyter-widgets/controls",
            "_model_module_version": "1.5.0",
            "_model_name": "HTMLModel",
            "_view_count": null,
            "_view_module": "@jupyter-widgets/controls",
            "_view_module_version": "1.5.0",
            "_view_name": "HTMLView",
            "description": "",
            "description_tooltip": null,
            "layout": "IPY_MODEL_32b3967f14434c2099756afdbf7f1abf",
            "placeholder": "​",
            "style": "IPY_MODEL_c259987c6c9b494982a3cc450e38d90f",
            "value": " 188/188 [00:02&lt;00:00, 90.74it/s]"
          }
        },
        "4403eaecb79d44df937573ed2fb142bb": {
          "model_module": "@jupyter-widgets/base",
          "model_name": "LayoutModel",
          "model_module_version": "1.2.0",
          "state": {
            "_model_module": "@jupyter-widgets/base",
            "_model_module_version": "1.2.0",
            "_model_name": "LayoutModel",
            "_view_count": null,
            "_view_module": "@jupyter-widgets/base",
            "_view_module_version": "1.2.0",
            "_view_name": "LayoutView",
            "align_content": null,
            "align_items": null,
            "align_self": null,
            "border": null,
            "bottom": null,
            "display": null,
            "flex": null,
            "flex_flow": null,
            "grid_area": null,
            "grid_auto_columns": null,
            "grid_auto_flow": null,
            "grid_auto_rows": null,
            "grid_column": null,
            "grid_gap": null,
            "grid_row": null,
            "grid_template_areas": null,
            "grid_template_columns": null,
            "grid_template_rows": null,
            "height": null,
            "justify_content": null,
            "justify_items": null,
            "left": null,
            "margin": null,
            "max_height": null,
            "max_width": null,
            "min_height": null,
            "min_width": null,
            "object_fit": null,
            "object_position": null,
            "order": null,
            "overflow": null,
            "overflow_x": null,
            "overflow_y": null,
            "padding": null,
            "right": null,
            "top": null,
            "visibility": null,
            "width": null
          }
        },
        "c4b1beacf1334dd3996362a40401dc69": {
          "model_module": "@jupyter-widgets/base",
          "model_name": "LayoutModel",
          "model_module_version": "1.2.0",
          "state": {
            "_model_module": "@jupyter-widgets/base",
            "_model_module_version": "1.2.0",
            "_model_name": "LayoutModel",
            "_view_count": null,
            "_view_module": "@jupyter-widgets/base",
            "_view_module_version": "1.2.0",
            "_view_name": "LayoutView",
            "align_content": null,
            "align_items": null,
            "align_self": null,
            "border": null,
            "bottom": null,
            "display": null,
            "flex": null,
            "flex_flow": null,
            "grid_area": null,
            "grid_auto_columns": null,
            "grid_auto_flow": null,
            "grid_auto_rows": null,
            "grid_column": null,
            "grid_gap": null,
            "grid_row": null,
            "grid_template_areas": null,
            "grid_template_columns": null,
            "grid_template_rows": null,
            "height": null,
            "justify_content": null,
            "justify_items": null,
            "left": null,
            "margin": null,
            "max_height": null,
            "max_width": null,
            "min_height": null,
            "min_width": null,
            "object_fit": null,
            "object_position": null,
            "order": null,
            "overflow": null,
            "overflow_x": null,
            "overflow_y": null,
            "padding": null,
            "right": null,
            "top": null,
            "visibility": null,
            "width": null
          }
        },
        "d916fc960c38429c93f07b4fd2f02870": {
          "model_module": "@jupyter-widgets/controls",
          "model_name": "DescriptionStyleModel",
          "model_module_version": "1.5.0",
          "state": {
            "_model_module": "@jupyter-widgets/controls",
            "_model_module_version": "1.5.0",
            "_model_name": "DescriptionStyleModel",
            "_view_count": null,
            "_view_module": "@jupyter-widgets/base",
            "_view_module_version": "1.2.0",
            "_view_name": "StyleView",
            "description_width": ""
          }
        },
        "5701cea4112f4c51aa1bc02b7da88173": {
          "model_module": "@jupyter-widgets/base",
          "model_name": "LayoutModel",
          "model_module_version": "1.2.0",
          "state": {
            "_model_module": "@jupyter-widgets/base",
            "_model_module_version": "1.2.0",
            "_model_name": "LayoutModel",
            "_view_count": null,
            "_view_module": "@jupyter-widgets/base",
            "_view_module_version": "1.2.0",
            "_view_name": "LayoutView",
            "align_content": null,
            "align_items": null,
            "align_self": null,
            "border": null,
            "bottom": null,
            "display": null,
            "flex": null,
            "flex_flow": null,
            "grid_area": null,
            "grid_auto_columns": null,
            "grid_auto_flow": null,
            "grid_auto_rows": null,
            "grid_column": null,
            "grid_gap": null,
            "grid_row": null,
            "grid_template_areas": null,
            "grid_template_columns": null,
            "grid_template_rows": null,
            "height": null,
            "justify_content": null,
            "justify_items": null,
            "left": null,
            "margin": null,
            "max_height": null,
            "max_width": null,
            "min_height": null,
            "min_width": null,
            "object_fit": null,
            "object_position": null,
            "order": null,
            "overflow": null,
            "overflow_x": null,
            "overflow_y": null,
            "padding": null,
            "right": null,
            "top": null,
            "visibility": null,
            "width": null
          }
        },
        "fd4018adf71b4793865139b8a81c0032": {
          "model_module": "@jupyter-widgets/controls",
          "model_name": "ProgressStyleModel",
          "model_module_version": "1.5.0",
          "state": {
            "_model_module": "@jupyter-widgets/controls",
            "_model_module_version": "1.5.0",
            "_model_name": "ProgressStyleModel",
            "_view_count": null,
            "_view_module": "@jupyter-widgets/base",
            "_view_module_version": "1.2.0",
            "_view_name": "StyleView",
            "bar_color": null,
            "description_width": ""
          }
        },
        "32b3967f14434c2099756afdbf7f1abf": {
          "model_module": "@jupyter-widgets/base",
          "model_name": "LayoutModel",
          "model_module_version": "1.2.0",
          "state": {
            "_model_module": "@jupyter-widgets/base",
            "_model_module_version": "1.2.0",
            "_model_name": "LayoutModel",
            "_view_count": null,
            "_view_module": "@jupyter-widgets/base",
            "_view_module_version": "1.2.0",
            "_view_name": "LayoutView",
            "align_content": null,
            "align_items": null,
            "align_self": null,
            "border": null,
            "bottom": null,
            "display": null,
            "flex": null,
            "flex_flow": null,
            "grid_area": null,
            "grid_auto_columns": null,
            "grid_auto_flow": null,
            "grid_auto_rows": null,
            "grid_column": null,
            "grid_gap": null,
            "grid_row": null,
            "grid_template_areas": null,
            "grid_template_columns": null,
            "grid_template_rows": null,
            "height": null,
            "justify_content": null,
            "justify_items": null,
            "left": null,
            "margin": null,
            "max_height": null,
            "max_width": null,
            "min_height": null,
            "min_width": null,
            "object_fit": null,
            "object_position": null,
            "order": null,
            "overflow": null,
            "overflow_x": null,
            "overflow_y": null,
            "padding": null,
            "right": null,
            "top": null,
            "visibility": null,
            "width": null
          }
        },
        "c259987c6c9b494982a3cc450e38d90f": {
          "model_module": "@jupyter-widgets/controls",
          "model_name": "DescriptionStyleModel",
          "model_module_version": "1.5.0",
          "state": {
            "_model_module": "@jupyter-widgets/controls",
            "_model_module_version": "1.5.0",
            "_model_name": "DescriptionStyleModel",
            "_view_count": null,
            "_view_module": "@jupyter-widgets/base",
            "_view_module_version": "1.2.0",
            "_view_name": "StyleView",
            "description_width": ""
          }
        },
        "bb577ef5c80849dfb4e584d9543638b3": {
          "model_module": "@jupyter-widgets/controls",
          "model_name": "HBoxModel",
          "model_module_version": "1.5.0",
          "state": {
            "_dom_classes": [],
            "_model_module": "@jupyter-widgets/controls",
            "_model_module_version": "1.5.0",
            "_model_name": "HBoxModel",
            "_view_count": null,
            "_view_module": "@jupyter-widgets/controls",
            "_view_module_version": "1.5.0",
            "_view_name": "HBoxView",
            "box_style": "",
            "children": [
              "IPY_MODEL_a141fbb034c748e5910b3fe56124863f",
              "IPY_MODEL_c87ff19ae1f445f19effb06a60d34ce1",
              "IPY_MODEL_36902ff7cddd430f8dc173ad4fbe6c87"
            ],
            "layout": "IPY_MODEL_b4c079a468754177b512ca139b74f50e"
          }
        },
        "a141fbb034c748e5910b3fe56124863f": {
          "model_module": "@jupyter-widgets/controls",
          "model_name": "HTMLModel",
          "model_module_version": "1.5.0",
          "state": {
            "_dom_classes": [],
            "_model_module": "@jupyter-widgets/controls",
            "_model_module_version": "1.5.0",
            "_model_name": "HTMLModel",
            "_view_count": null,
            "_view_module": "@jupyter-widgets/controls",
            "_view_module_version": "1.5.0",
            "_view_name": "HTMLView",
            "description": "",
            "description_tooltip": null,
            "layout": "IPY_MODEL_012d91390e764326861416262b1f92e7",
            "placeholder": "​",
            "style": "IPY_MODEL_39f432e38dc841478d5ec43228329eaa",
            "value": "100%"
          }
        },
        "c87ff19ae1f445f19effb06a60d34ce1": {
          "model_module": "@jupyter-widgets/controls",
          "model_name": "FloatProgressModel",
          "model_module_version": "1.5.0",
          "state": {
            "_dom_classes": [],
            "_model_module": "@jupyter-widgets/controls",
            "_model_module_version": "1.5.0",
            "_model_name": "FloatProgressModel",
            "_view_count": null,
            "_view_module": "@jupyter-widgets/controls",
            "_view_module_version": "1.5.0",
            "_view_name": "ProgressView",
            "bar_style": "success",
            "description": "",
            "description_tooltip": null,
            "layout": "IPY_MODEL_6bdfb9e4ea664d949b0604e047bc3c9b",
            "max": 188,
            "min": 0,
            "orientation": "horizontal",
            "style": "IPY_MODEL_5eb58bfcd44540e2a6843ef12d87a446",
            "value": 188
          }
        },
        "36902ff7cddd430f8dc173ad4fbe6c87": {
          "model_module": "@jupyter-widgets/controls",
          "model_name": "HTMLModel",
          "model_module_version": "1.5.0",
          "state": {
            "_dom_classes": [],
            "_model_module": "@jupyter-widgets/controls",
            "_model_module_version": "1.5.0",
            "_model_name": "HTMLModel",
            "_view_count": null,
            "_view_module": "@jupyter-widgets/controls",
            "_view_module_version": "1.5.0",
            "_view_name": "HTMLView",
            "description": "",
            "description_tooltip": null,
            "layout": "IPY_MODEL_df8a1782a05446f990d96a06326b0493",
            "placeholder": "​",
            "style": "IPY_MODEL_3f013967e1864819bec6f7c14e0afb5f",
            "value": " 188/188 [00:02&lt;00:00, 78.31it/s]"
          }
        },
        "b4c079a468754177b512ca139b74f50e": {
          "model_module": "@jupyter-widgets/base",
          "model_name": "LayoutModel",
          "model_module_version": "1.2.0",
          "state": {
            "_model_module": "@jupyter-widgets/base",
            "_model_module_version": "1.2.0",
            "_model_name": "LayoutModel",
            "_view_count": null,
            "_view_module": "@jupyter-widgets/base",
            "_view_module_version": "1.2.0",
            "_view_name": "LayoutView",
            "align_content": null,
            "align_items": null,
            "align_self": null,
            "border": null,
            "bottom": null,
            "display": null,
            "flex": null,
            "flex_flow": null,
            "grid_area": null,
            "grid_auto_columns": null,
            "grid_auto_flow": null,
            "grid_auto_rows": null,
            "grid_column": null,
            "grid_gap": null,
            "grid_row": null,
            "grid_template_areas": null,
            "grid_template_columns": null,
            "grid_template_rows": null,
            "height": null,
            "justify_content": null,
            "justify_items": null,
            "left": null,
            "margin": null,
            "max_height": null,
            "max_width": null,
            "min_height": null,
            "min_width": null,
            "object_fit": null,
            "object_position": null,
            "order": null,
            "overflow": null,
            "overflow_x": null,
            "overflow_y": null,
            "padding": null,
            "right": null,
            "top": null,
            "visibility": null,
            "width": null
          }
        },
        "012d91390e764326861416262b1f92e7": {
          "model_module": "@jupyter-widgets/base",
          "model_name": "LayoutModel",
          "model_module_version": "1.2.0",
          "state": {
            "_model_module": "@jupyter-widgets/base",
            "_model_module_version": "1.2.0",
            "_model_name": "LayoutModel",
            "_view_count": null,
            "_view_module": "@jupyter-widgets/base",
            "_view_module_version": "1.2.0",
            "_view_name": "LayoutView",
            "align_content": null,
            "align_items": null,
            "align_self": null,
            "border": null,
            "bottom": null,
            "display": null,
            "flex": null,
            "flex_flow": null,
            "grid_area": null,
            "grid_auto_columns": null,
            "grid_auto_flow": null,
            "grid_auto_rows": null,
            "grid_column": null,
            "grid_gap": null,
            "grid_row": null,
            "grid_template_areas": null,
            "grid_template_columns": null,
            "grid_template_rows": null,
            "height": null,
            "justify_content": null,
            "justify_items": null,
            "left": null,
            "margin": null,
            "max_height": null,
            "max_width": null,
            "min_height": null,
            "min_width": null,
            "object_fit": null,
            "object_position": null,
            "order": null,
            "overflow": null,
            "overflow_x": null,
            "overflow_y": null,
            "padding": null,
            "right": null,
            "top": null,
            "visibility": null,
            "width": null
          }
        },
        "39f432e38dc841478d5ec43228329eaa": {
          "model_module": "@jupyter-widgets/controls",
          "model_name": "DescriptionStyleModel",
          "model_module_version": "1.5.0",
          "state": {
            "_model_module": "@jupyter-widgets/controls",
            "_model_module_version": "1.5.0",
            "_model_name": "DescriptionStyleModel",
            "_view_count": null,
            "_view_module": "@jupyter-widgets/base",
            "_view_module_version": "1.2.0",
            "_view_name": "StyleView",
            "description_width": ""
          }
        },
        "6bdfb9e4ea664d949b0604e047bc3c9b": {
          "model_module": "@jupyter-widgets/base",
          "model_name": "LayoutModel",
          "model_module_version": "1.2.0",
          "state": {
            "_model_module": "@jupyter-widgets/base",
            "_model_module_version": "1.2.0",
            "_model_name": "LayoutModel",
            "_view_count": null,
            "_view_module": "@jupyter-widgets/base",
            "_view_module_version": "1.2.0",
            "_view_name": "LayoutView",
            "align_content": null,
            "align_items": null,
            "align_self": null,
            "border": null,
            "bottom": null,
            "display": null,
            "flex": null,
            "flex_flow": null,
            "grid_area": null,
            "grid_auto_columns": null,
            "grid_auto_flow": null,
            "grid_auto_rows": null,
            "grid_column": null,
            "grid_gap": null,
            "grid_row": null,
            "grid_template_areas": null,
            "grid_template_columns": null,
            "grid_template_rows": null,
            "height": null,
            "justify_content": null,
            "justify_items": null,
            "left": null,
            "margin": null,
            "max_height": null,
            "max_width": null,
            "min_height": null,
            "min_width": null,
            "object_fit": null,
            "object_position": null,
            "order": null,
            "overflow": null,
            "overflow_x": null,
            "overflow_y": null,
            "padding": null,
            "right": null,
            "top": null,
            "visibility": null,
            "width": null
          }
        },
        "5eb58bfcd44540e2a6843ef12d87a446": {
          "model_module": "@jupyter-widgets/controls",
          "model_name": "ProgressStyleModel",
          "model_module_version": "1.5.0",
          "state": {
            "_model_module": "@jupyter-widgets/controls",
            "_model_module_version": "1.5.0",
            "_model_name": "ProgressStyleModel",
            "_view_count": null,
            "_view_module": "@jupyter-widgets/base",
            "_view_module_version": "1.2.0",
            "_view_name": "StyleView",
            "bar_color": null,
            "description_width": ""
          }
        },
        "df8a1782a05446f990d96a06326b0493": {
          "model_module": "@jupyter-widgets/base",
          "model_name": "LayoutModel",
          "model_module_version": "1.2.0",
          "state": {
            "_model_module": "@jupyter-widgets/base",
            "_model_module_version": "1.2.0",
            "_model_name": "LayoutModel",
            "_view_count": null,
            "_view_module": "@jupyter-widgets/base",
            "_view_module_version": "1.2.0",
            "_view_name": "LayoutView",
            "align_content": null,
            "align_items": null,
            "align_self": null,
            "border": null,
            "bottom": null,
            "display": null,
            "flex": null,
            "flex_flow": null,
            "grid_area": null,
            "grid_auto_columns": null,
            "grid_auto_flow": null,
            "grid_auto_rows": null,
            "grid_column": null,
            "grid_gap": null,
            "grid_row": null,
            "grid_template_areas": null,
            "grid_template_columns": null,
            "grid_template_rows": null,
            "height": null,
            "justify_content": null,
            "justify_items": null,
            "left": null,
            "margin": null,
            "max_height": null,
            "max_width": null,
            "min_height": null,
            "min_width": null,
            "object_fit": null,
            "object_position": null,
            "order": null,
            "overflow": null,
            "overflow_x": null,
            "overflow_y": null,
            "padding": null,
            "right": null,
            "top": null,
            "visibility": null,
            "width": null
          }
        },
        "3f013967e1864819bec6f7c14e0afb5f": {
          "model_module": "@jupyter-widgets/controls",
          "model_name": "DescriptionStyleModel",
          "model_module_version": "1.5.0",
          "state": {
            "_model_module": "@jupyter-widgets/controls",
            "_model_module_version": "1.5.0",
            "_model_name": "DescriptionStyleModel",
            "_view_count": null,
            "_view_module": "@jupyter-widgets/base",
            "_view_module_version": "1.2.0",
            "_view_name": "StyleView",
            "description_width": ""
          }
        },
        "2eefad3d9cb74777a5bb2363c0052ae5": {
          "model_module": "@jupyter-widgets/controls",
          "model_name": "HBoxModel",
          "model_module_version": "1.5.0",
          "state": {
            "_dom_classes": [],
            "_model_module": "@jupyter-widgets/controls",
            "_model_module_version": "1.5.0",
            "_model_name": "HBoxModel",
            "_view_count": null,
            "_view_module": "@jupyter-widgets/controls",
            "_view_module_version": "1.5.0",
            "_view_name": "HBoxView",
            "box_style": "",
            "children": [
              "IPY_MODEL_b24321c7cf234f3a8e1792f9df69db0f",
              "IPY_MODEL_09b75f61f5314c1391a5d8d66d4bc6af",
              "IPY_MODEL_07c85359ccdc40be870288bba24b8a08"
            ],
            "layout": "IPY_MODEL_801b608e746b4d719a602c0f153ac005"
          }
        },
        "b24321c7cf234f3a8e1792f9df69db0f": {
          "model_module": "@jupyter-widgets/controls",
          "model_name": "HTMLModel",
          "model_module_version": "1.5.0",
          "state": {
            "_dom_classes": [],
            "_model_module": "@jupyter-widgets/controls",
            "_model_module_version": "1.5.0",
            "_model_name": "HTMLModel",
            "_view_count": null,
            "_view_module": "@jupyter-widgets/controls",
            "_view_module_version": "1.5.0",
            "_view_name": "HTMLView",
            "description": "",
            "description_tooltip": null,
            "layout": "IPY_MODEL_c87d0c7c09a14ac08020dffc81a5795b",
            "placeholder": "​",
            "style": "IPY_MODEL_9facf3406d184138b1f2352dc199caac",
            "value": "100%"
          }
        },
        "09b75f61f5314c1391a5d8d66d4bc6af": {
          "model_module": "@jupyter-widgets/controls",
          "model_name": "FloatProgressModel",
          "model_module_version": "1.5.0",
          "state": {
            "_dom_classes": [],
            "_model_module": "@jupyter-widgets/controls",
            "_model_module_version": "1.5.0",
            "_model_name": "FloatProgressModel",
            "_view_count": null,
            "_view_module": "@jupyter-widgets/controls",
            "_view_module_version": "1.5.0",
            "_view_name": "ProgressView",
            "bar_style": "success",
            "description": "",
            "description_tooltip": null,
            "layout": "IPY_MODEL_cc8d185be4354ee69a42d5b482937f51",
            "max": 188,
            "min": 0,
            "orientation": "horizontal",
            "style": "IPY_MODEL_8c5097da4a4f427a9fb3583822f5ecfe",
            "value": 188
          }
        },
        "07c85359ccdc40be870288bba24b8a08": {
          "model_module": "@jupyter-widgets/controls",
          "model_name": "HTMLModel",
          "model_module_version": "1.5.0",
          "state": {
            "_dom_classes": [],
            "_model_module": "@jupyter-widgets/controls",
            "_model_module_version": "1.5.0",
            "_model_name": "HTMLModel",
            "_view_count": null,
            "_view_module": "@jupyter-widgets/controls",
            "_view_module_version": "1.5.0",
            "_view_name": "HTMLView",
            "description": "",
            "description_tooltip": null,
            "layout": "IPY_MODEL_db1bf8b9457d4406b91045450d84b7c3",
            "placeholder": "​",
            "style": "IPY_MODEL_b966468d47f641a7a6731af8e441037d",
            "value": " 188/188 [00:03&lt;00:00, 65.15it/s]"
          }
        },
        "801b608e746b4d719a602c0f153ac005": {
          "model_module": "@jupyter-widgets/base",
          "model_name": "LayoutModel",
          "model_module_version": "1.2.0",
          "state": {
            "_model_module": "@jupyter-widgets/base",
            "_model_module_version": "1.2.0",
            "_model_name": "LayoutModel",
            "_view_count": null,
            "_view_module": "@jupyter-widgets/base",
            "_view_module_version": "1.2.0",
            "_view_name": "LayoutView",
            "align_content": null,
            "align_items": null,
            "align_self": null,
            "border": null,
            "bottom": null,
            "display": null,
            "flex": null,
            "flex_flow": null,
            "grid_area": null,
            "grid_auto_columns": null,
            "grid_auto_flow": null,
            "grid_auto_rows": null,
            "grid_column": null,
            "grid_gap": null,
            "grid_row": null,
            "grid_template_areas": null,
            "grid_template_columns": null,
            "grid_template_rows": null,
            "height": null,
            "justify_content": null,
            "justify_items": null,
            "left": null,
            "margin": null,
            "max_height": null,
            "max_width": null,
            "min_height": null,
            "min_width": null,
            "object_fit": null,
            "object_position": null,
            "order": null,
            "overflow": null,
            "overflow_x": null,
            "overflow_y": null,
            "padding": null,
            "right": null,
            "top": null,
            "visibility": null,
            "width": null
          }
        },
        "c87d0c7c09a14ac08020dffc81a5795b": {
          "model_module": "@jupyter-widgets/base",
          "model_name": "LayoutModel",
          "model_module_version": "1.2.0",
          "state": {
            "_model_module": "@jupyter-widgets/base",
            "_model_module_version": "1.2.0",
            "_model_name": "LayoutModel",
            "_view_count": null,
            "_view_module": "@jupyter-widgets/base",
            "_view_module_version": "1.2.0",
            "_view_name": "LayoutView",
            "align_content": null,
            "align_items": null,
            "align_self": null,
            "border": null,
            "bottom": null,
            "display": null,
            "flex": null,
            "flex_flow": null,
            "grid_area": null,
            "grid_auto_columns": null,
            "grid_auto_flow": null,
            "grid_auto_rows": null,
            "grid_column": null,
            "grid_gap": null,
            "grid_row": null,
            "grid_template_areas": null,
            "grid_template_columns": null,
            "grid_template_rows": null,
            "height": null,
            "justify_content": null,
            "justify_items": null,
            "left": null,
            "margin": null,
            "max_height": null,
            "max_width": null,
            "min_height": null,
            "min_width": null,
            "object_fit": null,
            "object_position": null,
            "order": null,
            "overflow": null,
            "overflow_x": null,
            "overflow_y": null,
            "padding": null,
            "right": null,
            "top": null,
            "visibility": null,
            "width": null
          }
        },
        "9facf3406d184138b1f2352dc199caac": {
          "model_module": "@jupyter-widgets/controls",
          "model_name": "DescriptionStyleModel",
          "model_module_version": "1.5.0",
          "state": {
            "_model_module": "@jupyter-widgets/controls",
            "_model_module_version": "1.5.0",
            "_model_name": "DescriptionStyleModel",
            "_view_count": null,
            "_view_module": "@jupyter-widgets/base",
            "_view_module_version": "1.2.0",
            "_view_name": "StyleView",
            "description_width": ""
          }
        },
        "cc8d185be4354ee69a42d5b482937f51": {
          "model_module": "@jupyter-widgets/base",
          "model_name": "LayoutModel",
          "model_module_version": "1.2.0",
          "state": {
            "_model_module": "@jupyter-widgets/base",
            "_model_module_version": "1.2.0",
            "_model_name": "LayoutModel",
            "_view_count": null,
            "_view_module": "@jupyter-widgets/base",
            "_view_module_version": "1.2.0",
            "_view_name": "LayoutView",
            "align_content": null,
            "align_items": null,
            "align_self": null,
            "border": null,
            "bottom": null,
            "display": null,
            "flex": null,
            "flex_flow": null,
            "grid_area": null,
            "grid_auto_columns": null,
            "grid_auto_flow": null,
            "grid_auto_rows": null,
            "grid_column": null,
            "grid_gap": null,
            "grid_row": null,
            "grid_template_areas": null,
            "grid_template_columns": null,
            "grid_template_rows": null,
            "height": null,
            "justify_content": null,
            "justify_items": null,
            "left": null,
            "margin": null,
            "max_height": null,
            "max_width": null,
            "min_height": null,
            "min_width": null,
            "object_fit": null,
            "object_position": null,
            "order": null,
            "overflow": null,
            "overflow_x": null,
            "overflow_y": null,
            "padding": null,
            "right": null,
            "top": null,
            "visibility": null,
            "width": null
          }
        },
        "8c5097da4a4f427a9fb3583822f5ecfe": {
          "model_module": "@jupyter-widgets/controls",
          "model_name": "ProgressStyleModel",
          "model_module_version": "1.5.0",
          "state": {
            "_model_module": "@jupyter-widgets/controls",
            "_model_module_version": "1.5.0",
            "_model_name": "ProgressStyleModel",
            "_view_count": null,
            "_view_module": "@jupyter-widgets/base",
            "_view_module_version": "1.2.0",
            "_view_name": "StyleView",
            "bar_color": null,
            "description_width": ""
          }
        },
        "db1bf8b9457d4406b91045450d84b7c3": {
          "model_module": "@jupyter-widgets/base",
          "model_name": "LayoutModel",
          "model_module_version": "1.2.0",
          "state": {
            "_model_module": "@jupyter-widgets/base",
            "_model_module_version": "1.2.0",
            "_model_name": "LayoutModel",
            "_view_count": null,
            "_view_module": "@jupyter-widgets/base",
            "_view_module_version": "1.2.0",
            "_view_name": "LayoutView",
            "align_content": null,
            "align_items": null,
            "align_self": null,
            "border": null,
            "bottom": null,
            "display": null,
            "flex": null,
            "flex_flow": null,
            "grid_area": null,
            "grid_auto_columns": null,
            "grid_auto_flow": null,
            "grid_auto_rows": null,
            "grid_column": null,
            "grid_gap": null,
            "grid_row": null,
            "grid_template_areas": null,
            "grid_template_columns": null,
            "grid_template_rows": null,
            "height": null,
            "justify_content": null,
            "justify_items": null,
            "left": null,
            "margin": null,
            "max_height": null,
            "max_width": null,
            "min_height": null,
            "min_width": null,
            "object_fit": null,
            "object_position": null,
            "order": null,
            "overflow": null,
            "overflow_x": null,
            "overflow_y": null,
            "padding": null,
            "right": null,
            "top": null,
            "visibility": null,
            "width": null
          }
        },
        "b966468d47f641a7a6731af8e441037d": {
          "model_module": "@jupyter-widgets/controls",
          "model_name": "DescriptionStyleModel",
          "model_module_version": "1.5.0",
          "state": {
            "_model_module": "@jupyter-widgets/controls",
            "_model_module_version": "1.5.0",
            "_model_name": "DescriptionStyleModel",
            "_view_count": null,
            "_view_module": "@jupyter-widgets/base",
            "_view_module_version": "1.2.0",
            "_view_name": "StyleView",
            "description_width": ""
          }
        },
        "f938ac3cc1434007910fe8c8bfb72e9a": {
          "model_module": "@jupyter-widgets/controls",
          "model_name": "HBoxModel",
          "model_module_version": "1.5.0",
          "state": {
            "_dom_classes": [],
            "_model_module": "@jupyter-widgets/controls",
            "_model_module_version": "1.5.0",
            "_model_name": "HBoxModel",
            "_view_count": null,
            "_view_module": "@jupyter-widgets/controls",
            "_view_module_version": "1.5.0",
            "_view_name": "HBoxView",
            "box_style": "",
            "children": [
              "IPY_MODEL_8cba9e0cde1e4ce4a328f694521825d2",
              "IPY_MODEL_6e6132b9029547deac579b03244187b6",
              "IPY_MODEL_14c0f88c5c8441199467a99151c78ca0"
            ],
            "layout": "IPY_MODEL_c85ad582951f4e9a8c4c7c344017778b"
          }
        },
        "8cba9e0cde1e4ce4a328f694521825d2": {
          "model_module": "@jupyter-widgets/controls",
          "model_name": "HTMLModel",
          "model_module_version": "1.5.0",
          "state": {
            "_dom_classes": [],
            "_model_module": "@jupyter-widgets/controls",
            "_model_module_version": "1.5.0",
            "_model_name": "HTMLModel",
            "_view_count": null,
            "_view_module": "@jupyter-widgets/controls",
            "_view_module_version": "1.5.0",
            "_view_name": "HTMLView",
            "description": "",
            "description_tooltip": null,
            "layout": "IPY_MODEL_623941f5b7564636853dae6afbe96040",
            "placeholder": "​",
            "style": "IPY_MODEL_bc8d3d41b80f4ea5b5d3d65b99fedc7b",
            "value": "100%"
          }
        },
        "6e6132b9029547deac579b03244187b6": {
          "model_module": "@jupyter-widgets/controls",
          "model_name": "FloatProgressModel",
          "model_module_version": "1.5.0",
          "state": {
            "_dom_classes": [],
            "_model_module": "@jupyter-widgets/controls",
            "_model_module_version": "1.5.0",
            "_model_name": "FloatProgressModel",
            "_view_count": null,
            "_view_module": "@jupyter-widgets/controls",
            "_view_module_version": "1.5.0",
            "_view_name": "ProgressView",
            "bar_style": "success",
            "description": "",
            "description_tooltip": null,
            "layout": "IPY_MODEL_9ee7fccd9d724fba8de2a33e67b6dcd8",
            "max": 188,
            "min": 0,
            "orientation": "horizontal",
            "style": "IPY_MODEL_ae1b5657be6c48a08c9843a7b9c0742c",
            "value": 188
          }
        },
        "14c0f88c5c8441199467a99151c78ca0": {
          "model_module": "@jupyter-widgets/controls",
          "model_name": "HTMLModel",
          "model_module_version": "1.5.0",
          "state": {
            "_dom_classes": [],
            "_model_module": "@jupyter-widgets/controls",
            "_model_module_version": "1.5.0",
            "_model_name": "HTMLModel",
            "_view_count": null,
            "_view_module": "@jupyter-widgets/controls",
            "_view_module_version": "1.5.0",
            "_view_name": "HTMLView",
            "description": "",
            "description_tooltip": null,
            "layout": "IPY_MODEL_bf9885ad035d44d897172295bffcfc43",
            "placeholder": "​",
            "style": "IPY_MODEL_9bb1ec9e47d144ef8b3650b95bcb3d68",
            "value": " 188/188 [00:02&lt;00:00, 92.87it/s]"
          }
        },
        "c85ad582951f4e9a8c4c7c344017778b": {
          "model_module": "@jupyter-widgets/base",
          "model_name": "LayoutModel",
          "model_module_version": "1.2.0",
          "state": {
            "_model_module": "@jupyter-widgets/base",
            "_model_module_version": "1.2.0",
            "_model_name": "LayoutModel",
            "_view_count": null,
            "_view_module": "@jupyter-widgets/base",
            "_view_module_version": "1.2.0",
            "_view_name": "LayoutView",
            "align_content": null,
            "align_items": null,
            "align_self": null,
            "border": null,
            "bottom": null,
            "display": null,
            "flex": null,
            "flex_flow": null,
            "grid_area": null,
            "grid_auto_columns": null,
            "grid_auto_flow": null,
            "grid_auto_rows": null,
            "grid_column": null,
            "grid_gap": null,
            "grid_row": null,
            "grid_template_areas": null,
            "grid_template_columns": null,
            "grid_template_rows": null,
            "height": null,
            "justify_content": null,
            "justify_items": null,
            "left": null,
            "margin": null,
            "max_height": null,
            "max_width": null,
            "min_height": null,
            "min_width": null,
            "object_fit": null,
            "object_position": null,
            "order": null,
            "overflow": null,
            "overflow_x": null,
            "overflow_y": null,
            "padding": null,
            "right": null,
            "top": null,
            "visibility": null,
            "width": null
          }
        },
        "623941f5b7564636853dae6afbe96040": {
          "model_module": "@jupyter-widgets/base",
          "model_name": "LayoutModel",
          "model_module_version": "1.2.0",
          "state": {
            "_model_module": "@jupyter-widgets/base",
            "_model_module_version": "1.2.0",
            "_model_name": "LayoutModel",
            "_view_count": null,
            "_view_module": "@jupyter-widgets/base",
            "_view_module_version": "1.2.0",
            "_view_name": "LayoutView",
            "align_content": null,
            "align_items": null,
            "align_self": null,
            "border": null,
            "bottom": null,
            "display": null,
            "flex": null,
            "flex_flow": null,
            "grid_area": null,
            "grid_auto_columns": null,
            "grid_auto_flow": null,
            "grid_auto_rows": null,
            "grid_column": null,
            "grid_gap": null,
            "grid_row": null,
            "grid_template_areas": null,
            "grid_template_columns": null,
            "grid_template_rows": null,
            "height": null,
            "justify_content": null,
            "justify_items": null,
            "left": null,
            "margin": null,
            "max_height": null,
            "max_width": null,
            "min_height": null,
            "min_width": null,
            "object_fit": null,
            "object_position": null,
            "order": null,
            "overflow": null,
            "overflow_x": null,
            "overflow_y": null,
            "padding": null,
            "right": null,
            "top": null,
            "visibility": null,
            "width": null
          }
        },
        "bc8d3d41b80f4ea5b5d3d65b99fedc7b": {
          "model_module": "@jupyter-widgets/controls",
          "model_name": "DescriptionStyleModel",
          "model_module_version": "1.5.0",
          "state": {
            "_model_module": "@jupyter-widgets/controls",
            "_model_module_version": "1.5.0",
            "_model_name": "DescriptionStyleModel",
            "_view_count": null,
            "_view_module": "@jupyter-widgets/base",
            "_view_module_version": "1.2.0",
            "_view_name": "StyleView",
            "description_width": ""
          }
        },
        "9ee7fccd9d724fba8de2a33e67b6dcd8": {
          "model_module": "@jupyter-widgets/base",
          "model_name": "LayoutModel",
          "model_module_version": "1.2.0",
          "state": {
            "_model_module": "@jupyter-widgets/base",
            "_model_module_version": "1.2.0",
            "_model_name": "LayoutModel",
            "_view_count": null,
            "_view_module": "@jupyter-widgets/base",
            "_view_module_version": "1.2.0",
            "_view_name": "LayoutView",
            "align_content": null,
            "align_items": null,
            "align_self": null,
            "border": null,
            "bottom": null,
            "display": null,
            "flex": null,
            "flex_flow": null,
            "grid_area": null,
            "grid_auto_columns": null,
            "grid_auto_flow": null,
            "grid_auto_rows": null,
            "grid_column": null,
            "grid_gap": null,
            "grid_row": null,
            "grid_template_areas": null,
            "grid_template_columns": null,
            "grid_template_rows": null,
            "height": null,
            "justify_content": null,
            "justify_items": null,
            "left": null,
            "margin": null,
            "max_height": null,
            "max_width": null,
            "min_height": null,
            "min_width": null,
            "object_fit": null,
            "object_position": null,
            "order": null,
            "overflow": null,
            "overflow_x": null,
            "overflow_y": null,
            "padding": null,
            "right": null,
            "top": null,
            "visibility": null,
            "width": null
          }
        },
        "ae1b5657be6c48a08c9843a7b9c0742c": {
          "model_module": "@jupyter-widgets/controls",
          "model_name": "ProgressStyleModel",
          "model_module_version": "1.5.0",
          "state": {
            "_model_module": "@jupyter-widgets/controls",
            "_model_module_version": "1.5.0",
            "_model_name": "ProgressStyleModel",
            "_view_count": null,
            "_view_module": "@jupyter-widgets/base",
            "_view_module_version": "1.2.0",
            "_view_name": "StyleView",
            "bar_color": null,
            "description_width": ""
          }
        },
        "bf9885ad035d44d897172295bffcfc43": {
          "model_module": "@jupyter-widgets/base",
          "model_name": "LayoutModel",
          "model_module_version": "1.2.0",
          "state": {
            "_model_module": "@jupyter-widgets/base",
            "_model_module_version": "1.2.0",
            "_model_name": "LayoutModel",
            "_view_count": null,
            "_view_module": "@jupyter-widgets/base",
            "_view_module_version": "1.2.0",
            "_view_name": "LayoutView",
            "align_content": null,
            "align_items": null,
            "align_self": null,
            "border": null,
            "bottom": null,
            "display": null,
            "flex": null,
            "flex_flow": null,
            "grid_area": null,
            "grid_auto_columns": null,
            "grid_auto_flow": null,
            "grid_auto_rows": null,
            "grid_column": null,
            "grid_gap": null,
            "grid_row": null,
            "grid_template_areas": null,
            "grid_template_columns": null,
            "grid_template_rows": null,
            "height": null,
            "justify_content": null,
            "justify_items": null,
            "left": null,
            "margin": null,
            "max_height": null,
            "max_width": null,
            "min_height": null,
            "min_width": null,
            "object_fit": null,
            "object_position": null,
            "order": null,
            "overflow": null,
            "overflow_x": null,
            "overflow_y": null,
            "padding": null,
            "right": null,
            "top": null,
            "visibility": null,
            "width": null
          }
        },
        "9bb1ec9e47d144ef8b3650b95bcb3d68": {
          "model_module": "@jupyter-widgets/controls",
          "model_name": "DescriptionStyleModel",
          "model_module_version": "1.5.0",
          "state": {
            "_model_module": "@jupyter-widgets/controls",
            "_model_module_version": "1.5.0",
            "_model_name": "DescriptionStyleModel",
            "_view_count": null,
            "_view_module": "@jupyter-widgets/base",
            "_view_module_version": "1.2.0",
            "_view_name": "StyleView",
            "description_width": ""
          }
        },
        "a94dbbe7b51f493994769ff62329557d": {
          "model_module": "@jupyter-widgets/controls",
          "model_name": "HBoxModel",
          "model_module_version": "1.5.0",
          "state": {
            "_dom_classes": [],
            "_model_module": "@jupyter-widgets/controls",
            "_model_module_version": "1.5.0",
            "_model_name": "HBoxModel",
            "_view_count": null,
            "_view_module": "@jupyter-widgets/controls",
            "_view_module_version": "1.5.0",
            "_view_name": "HBoxView",
            "box_style": "",
            "children": [
              "IPY_MODEL_7d3c19ffa99a443495c886fb69a61e78",
              "IPY_MODEL_1f2dc1c14bb34c1b9bae0947aede184b",
              "IPY_MODEL_a755f4b9b7c24b1d9935db83e6699e1c"
            ],
            "layout": "IPY_MODEL_b129637d1863451a8220bc4f92c4e839"
          }
        },
        "7d3c19ffa99a443495c886fb69a61e78": {
          "model_module": "@jupyter-widgets/controls",
          "model_name": "HTMLModel",
          "model_module_version": "1.5.0",
          "state": {
            "_dom_classes": [],
            "_model_module": "@jupyter-widgets/controls",
            "_model_module_version": "1.5.0",
            "_model_name": "HTMLModel",
            "_view_count": null,
            "_view_module": "@jupyter-widgets/controls",
            "_view_module_version": "1.5.0",
            "_view_name": "HTMLView",
            "description": "",
            "description_tooltip": null,
            "layout": "IPY_MODEL_6b0bd4255bc449e1a7cf2d6cb7c5decb",
            "placeholder": "​",
            "style": "IPY_MODEL_9384c538c8724afda2c872dfb04d3012",
            "value": "100%"
          }
        },
        "1f2dc1c14bb34c1b9bae0947aede184b": {
          "model_module": "@jupyter-widgets/controls",
          "model_name": "FloatProgressModel",
          "model_module_version": "1.5.0",
          "state": {
            "_dom_classes": [],
            "_model_module": "@jupyter-widgets/controls",
            "_model_module_version": "1.5.0",
            "_model_name": "FloatProgressModel",
            "_view_count": null,
            "_view_module": "@jupyter-widgets/controls",
            "_view_module_version": "1.5.0",
            "_view_name": "ProgressView",
            "bar_style": "success",
            "description": "",
            "description_tooltip": null,
            "layout": "IPY_MODEL_e80e4292eccb4d568696cb618d8b095b",
            "max": 188,
            "min": 0,
            "orientation": "horizontal",
            "style": "IPY_MODEL_12613ad060f14a0ea3f463911ee2c6b0",
            "value": 188
          }
        },
        "a755f4b9b7c24b1d9935db83e6699e1c": {
          "model_module": "@jupyter-widgets/controls",
          "model_name": "HTMLModel",
          "model_module_version": "1.5.0",
          "state": {
            "_dom_classes": [],
            "_model_module": "@jupyter-widgets/controls",
            "_model_module_version": "1.5.0",
            "_model_name": "HTMLModel",
            "_view_count": null,
            "_view_module": "@jupyter-widgets/controls",
            "_view_module_version": "1.5.0",
            "_view_name": "HTMLView",
            "description": "",
            "description_tooltip": null,
            "layout": "IPY_MODEL_352be0df1fcb48758a13f7afe1c1045e",
            "placeholder": "​",
            "style": "IPY_MODEL_b12e4a4c1abd4089be05c31cd5825835",
            "value": " 188/188 [00:02&lt;00:00, 76.93it/s]"
          }
        },
        "b129637d1863451a8220bc4f92c4e839": {
          "model_module": "@jupyter-widgets/base",
          "model_name": "LayoutModel",
          "model_module_version": "1.2.0",
          "state": {
            "_model_module": "@jupyter-widgets/base",
            "_model_module_version": "1.2.0",
            "_model_name": "LayoutModel",
            "_view_count": null,
            "_view_module": "@jupyter-widgets/base",
            "_view_module_version": "1.2.0",
            "_view_name": "LayoutView",
            "align_content": null,
            "align_items": null,
            "align_self": null,
            "border": null,
            "bottom": null,
            "display": null,
            "flex": null,
            "flex_flow": null,
            "grid_area": null,
            "grid_auto_columns": null,
            "grid_auto_flow": null,
            "grid_auto_rows": null,
            "grid_column": null,
            "grid_gap": null,
            "grid_row": null,
            "grid_template_areas": null,
            "grid_template_columns": null,
            "grid_template_rows": null,
            "height": null,
            "justify_content": null,
            "justify_items": null,
            "left": null,
            "margin": null,
            "max_height": null,
            "max_width": null,
            "min_height": null,
            "min_width": null,
            "object_fit": null,
            "object_position": null,
            "order": null,
            "overflow": null,
            "overflow_x": null,
            "overflow_y": null,
            "padding": null,
            "right": null,
            "top": null,
            "visibility": null,
            "width": null
          }
        },
        "6b0bd4255bc449e1a7cf2d6cb7c5decb": {
          "model_module": "@jupyter-widgets/base",
          "model_name": "LayoutModel",
          "model_module_version": "1.2.0",
          "state": {
            "_model_module": "@jupyter-widgets/base",
            "_model_module_version": "1.2.0",
            "_model_name": "LayoutModel",
            "_view_count": null,
            "_view_module": "@jupyter-widgets/base",
            "_view_module_version": "1.2.0",
            "_view_name": "LayoutView",
            "align_content": null,
            "align_items": null,
            "align_self": null,
            "border": null,
            "bottom": null,
            "display": null,
            "flex": null,
            "flex_flow": null,
            "grid_area": null,
            "grid_auto_columns": null,
            "grid_auto_flow": null,
            "grid_auto_rows": null,
            "grid_column": null,
            "grid_gap": null,
            "grid_row": null,
            "grid_template_areas": null,
            "grid_template_columns": null,
            "grid_template_rows": null,
            "height": null,
            "justify_content": null,
            "justify_items": null,
            "left": null,
            "margin": null,
            "max_height": null,
            "max_width": null,
            "min_height": null,
            "min_width": null,
            "object_fit": null,
            "object_position": null,
            "order": null,
            "overflow": null,
            "overflow_x": null,
            "overflow_y": null,
            "padding": null,
            "right": null,
            "top": null,
            "visibility": null,
            "width": null
          }
        },
        "9384c538c8724afda2c872dfb04d3012": {
          "model_module": "@jupyter-widgets/controls",
          "model_name": "DescriptionStyleModel",
          "model_module_version": "1.5.0",
          "state": {
            "_model_module": "@jupyter-widgets/controls",
            "_model_module_version": "1.5.0",
            "_model_name": "DescriptionStyleModel",
            "_view_count": null,
            "_view_module": "@jupyter-widgets/base",
            "_view_module_version": "1.2.0",
            "_view_name": "StyleView",
            "description_width": ""
          }
        },
        "e80e4292eccb4d568696cb618d8b095b": {
          "model_module": "@jupyter-widgets/base",
          "model_name": "LayoutModel",
          "model_module_version": "1.2.0",
          "state": {
            "_model_module": "@jupyter-widgets/base",
            "_model_module_version": "1.2.0",
            "_model_name": "LayoutModel",
            "_view_count": null,
            "_view_module": "@jupyter-widgets/base",
            "_view_module_version": "1.2.0",
            "_view_name": "LayoutView",
            "align_content": null,
            "align_items": null,
            "align_self": null,
            "border": null,
            "bottom": null,
            "display": null,
            "flex": null,
            "flex_flow": null,
            "grid_area": null,
            "grid_auto_columns": null,
            "grid_auto_flow": null,
            "grid_auto_rows": null,
            "grid_column": null,
            "grid_gap": null,
            "grid_row": null,
            "grid_template_areas": null,
            "grid_template_columns": null,
            "grid_template_rows": null,
            "height": null,
            "justify_content": null,
            "justify_items": null,
            "left": null,
            "margin": null,
            "max_height": null,
            "max_width": null,
            "min_height": null,
            "min_width": null,
            "object_fit": null,
            "object_position": null,
            "order": null,
            "overflow": null,
            "overflow_x": null,
            "overflow_y": null,
            "padding": null,
            "right": null,
            "top": null,
            "visibility": null,
            "width": null
          }
        },
        "12613ad060f14a0ea3f463911ee2c6b0": {
          "model_module": "@jupyter-widgets/controls",
          "model_name": "ProgressStyleModel",
          "model_module_version": "1.5.0",
          "state": {
            "_model_module": "@jupyter-widgets/controls",
            "_model_module_version": "1.5.0",
            "_model_name": "ProgressStyleModel",
            "_view_count": null,
            "_view_module": "@jupyter-widgets/base",
            "_view_module_version": "1.2.0",
            "_view_name": "StyleView",
            "bar_color": null,
            "description_width": ""
          }
        },
        "352be0df1fcb48758a13f7afe1c1045e": {
          "model_module": "@jupyter-widgets/base",
          "model_name": "LayoutModel",
          "model_module_version": "1.2.0",
          "state": {
            "_model_module": "@jupyter-widgets/base",
            "_model_module_version": "1.2.0",
            "_model_name": "LayoutModel",
            "_view_count": null,
            "_view_module": "@jupyter-widgets/base",
            "_view_module_version": "1.2.0",
            "_view_name": "LayoutView",
            "align_content": null,
            "align_items": null,
            "align_self": null,
            "border": null,
            "bottom": null,
            "display": null,
            "flex": null,
            "flex_flow": null,
            "grid_area": null,
            "grid_auto_columns": null,
            "grid_auto_flow": null,
            "grid_auto_rows": null,
            "grid_column": null,
            "grid_gap": null,
            "grid_row": null,
            "grid_template_areas": null,
            "grid_template_columns": null,
            "grid_template_rows": null,
            "height": null,
            "justify_content": null,
            "justify_items": null,
            "left": null,
            "margin": null,
            "max_height": null,
            "max_width": null,
            "min_height": null,
            "min_width": null,
            "object_fit": null,
            "object_position": null,
            "order": null,
            "overflow": null,
            "overflow_x": null,
            "overflow_y": null,
            "padding": null,
            "right": null,
            "top": null,
            "visibility": null,
            "width": null
          }
        },
        "b12e4a4c1abd4089be05c31cd5825835": {
          "model_module": "@jupyter-widgets/controls",
          "model_name": "DescriptionStyleModel",
          "model_module_version": "1.5.0",
          "state": {
            "_model_module": "@jupyter-widgets/controls",
            "_model_module_version": "1.5.0",
            "_model_name": "DescriptionStyleModel",
            "_view_count": null,
            "_view_module": "@jupyter-widgets/base",
            "_view_module_version": "1.2.0",
            "_view_name": "StyleView",
            "description_width": ""
          }
        },
        "03743bc2831c4b8481eab864b65aa146": {
          "model_module": "@jupyter-widgets/controls",
          "model_name": "HBoxModel",
          "model_module_version": "1.5.0",
          "state": {
            "_dom_classes": [],
            "_model_module": "@jupyter-widgets/controls",
            "_model_module_version": "1.5.0",
            "_model_name": "HBoxModel",
            "_view_count": null,
            "_view_module": "@jupyter-widgets/controls",
            "_view_module_version": "1.5.0",
            "_view_name": "HBoxView",
            "box_style": "",
            "children": [
              "IPY_MODEL_b064e0c5107f45dca06955470319bac1",
              "IPY_MODEL_b5dba2d4c8fc4e58a78dcc5843697960",
              "IPY_MODEL_672fa160d09449a2b42a1420c7e5af57"
            ],
            "layout": "IPY_MODEL_86f386d2fbcb4d8a85a668bc7dea89c9"
          }
        },
        "b064e0c5107f45dca06955470319bac1": {
          "model_module": "@jupyter-widgets/controls",
          "model_name": "HTMLModel",
          "model_module_version": "1.5.0",
          "state": {
            "_dom_classes": [],
            "_model_module": "@jupyter-widgets/controls",
            "_model_module_version": "1.5.0",
            "_model_name": "HTMLModel",
            "_view_count": null,
            "_view_module": "@jupyter-widgets/controls",
            "_view_module_version": "1.5.0",
            "_view_name": "HTMLView",
            "description": "",
            "description_tooltip": null,
            "layout": "IPY_MODEL_64887244febc4ddfae05b3eb4c9e7b77",
            "placeholder": "​",
            "style": "IPY_MODEL_21a77dbe7d9b4fb3adc2ba32362c2768",
            "value": "100%"
          }
        },
        "b5dba2d4c8fc4e58a78dcc5843697960": {
          "model_module": "@jupyter-widgets/controls",
          "model_name": "FloatProgressModel",
          "model_module_version": "1.5.0",
          "state": {
            "_dom_classes": [],
            "_model_module": "@jupyter-widgets/controls",
            "_model_module_version": "1.5.0",
            "_model_name": "FloatProgressModel",
            "_view_count": null,
            "_view_module": "@jupyter-widgets/controls",
            "_view_module_version": "1.5.0",
            "_view_name": "ProgressView",
            "bar_style": "success",
            "description": "",
            "description_tooltip": null,
            "layout": "IPY_MODEL_cdfe86a85c084d3ab4da6b6cc7e7937d",
            "max": 188,
            "min": 0,
            "orientation": "horizontal",
            "style": "IPY_MODEL_2b3d3faeba394b8b8356d42e94a26153",
            "value": 188
          }
        },
        "672fa160d09449a2b42a1420c7e5af57": {
          "model_module": "@jupyter-widgets/controls",
          "model_name": "HTMLModel",
          "model_module_version": "1.5.0",
          "state": {
            "_dom_classes": [],
            "_model_module": "@jupyter-widgets/controls",
            "_model_module_version": "1.5.0",
            "_model_name": "HTMLModel",
            "_view_count": null,
            "_view_module": "@jupyter-widgets/controls",
            "_view_module_version": "1.5.0",
            "_view_name": "HTMLView",
            "description": "",
            "description_tooltip": null,
            "layout": "IPY_MODEL_eacceb06c9eb4658accc130a248599d9",
            "placeholder": "​",
            "style": "IPY_MODEL_f38c582fdd9a422f8d68f005565739f0",
            "value": " 188/188 [00:03&lt;00:00, 55.51it/s]"
          }
        },
        "86f386d2fbcb4d8a85a668bc7dea89c9": {
          "model_module": "@jupyter-widgets/base",
          "model_name": "LayoutModel",
          "model_module_version": "1.2.0",
          "state": {
            "_model_module": "@jupyter-widgets/base",
            "_model_module_version": "1.2.0",
            "_model_name": "LayoutModel",
            "_view_count": null,
            "_view_module": "@jupyter-widgets/base",
            "_view_module_version": "1.2.0",
            "_view_name": "LayoutView",
            "align_content": null,
            "align_items": null,
            "align_self": null,
            "border": null,
            "bottom": null,
            "display": null,
            "flex": null,
            "flex_flow": null,
            "grid_area": null,
            "grid_auto_columns": null,
            "grid_auto_flow": null,
            "grid_auto_rows": null,
            "grid_column": null,
            "grid_gap": null,
            "grid_row": null,
            "grid_template_areas": null,
            "grid_template_columns": null,
            "grid_template_rows": null,
            "height": null,
            "justify_content": null,
            "justify_items": null,
            "left": null,
            "margin": null,
            "max_height": null,
            "max_width": null,
            "min_height": null,
            "min_width": null,
            "object_fit": null,
            "object_position": null,
            "order": null,
            "overflow": null,
            "overflow_x": null,
            "overflow_y": null,
            "padding": null,
            "right": null,
            "top": null,
            "visibility": null,
            "width": null
          }
        },
        "64887244febc4ddfae05b3eb4c9e7b77": {
          "model_module": "@jupyter-widgets/base",
          "model_name": "LayoutModel",
          "model_module_version": "1.2.0",
          "state": {
            "_model_module": "@jupyter-widgets/base",
            "_model_module_version": "1.2.0",
            "_model_name": "LayoutModel",
            "_view_count": null,
            "_view_module": "@jupyter-widgets/base",
            "_view_module_version": "1.2.0",
            "_view_name": "LayoutView",
            "align_content": null,
            "align_items": null,
            "align_self": null,
            "border": null,
            "bottom": null,
            "display": null,
            "flex": null,
            "flex_flow": null,
            "grid_area": null,
            "grid_auto_columns": null,
            "grid_auto_flow": null,
            "grid_auto_rows": null,
            "grid_column": null,
            "grid_gap": null,
            "grid_row": null,
            "grid_template_areas": null,
            "grid_template_columns": null,
            "grid_template_rows": null,
            "height": null,
            "justify_content": null,
            "justify_items": null,
            "left": null,
            "margin": null,
            "max_height": null,
            "max_width": null,
            "min_height": null,
            "min_width": null,
            "object_fit": null,
            "object_position": null,
            "order": null,
            "overflow": null,
            "overflow_x": null,
            "overflow_y": null,
            "padding": null,
            "right": null,
            "top": null,
            "visibility": null,
            "width": null
          }
        },
        "21a77dbe7d9b4fb3adc2ba32362c2768": {
          "model_module": "@jupyter-widgets/controls",
          "model_name": "DescriptionStyleModel",
          "model_module_version": "1.5.0",
          "state": {
            "_model_module": "@jupyter-widgets/controls",
            "_model_module_version": "1.5.0",
            "_model_name": "DescriptionStyleModel",
            "_view_count": null,
            "_view_module": "@jupyter-widgets/base",
            "_view_module_version": "1.2.0",
            "_view_name": "StyleView",
            "description_width": ""
          }
        },
        "cdfe86a85c084d3ab4da6b6cc7e7937d": {
          "model_module": "@jupyter-widgets/base",
          "model_name": "LayoutModel",
          "model_module_version": "1.2.0",
          "state": {
            "_model_module": "@jupyter-widgets/base",
            "_model_module_version": "1.2.0",
            "_model_name": "LayoutModel",
            "_view_count": null,
            "_view_module": "@jupyter-widgets/base",
            "_view_module_version": "1.2.0",
            "_view_name": "LayoutView",
            "align_content": null,
            "align_items": null,
            "align_self": null,
            "border": null,
            "bottom": null,
            "display": null,
            "flex": null,
            "flex_flow": null,
            "grid_area": null,
            "grid_auto_columns": null,
            "grid_auto_flow": null,
            "grid_auto_rows": null,
            "grid_column": null,
            "grid_gap": null,
            "grid_row": null,
            "grid_template_areas": null,
            "grid_template_columns": null,
            "grid_template_rows": null,
            "height": null,
            "justify_content": null,
            "justify_items": null,
            "left": null,
            "margin": null,
            "max_height": null,
            "max_width": null,
            "min_height": null,
            "min_width": null,
            "object_fit": null,
            "object_position": null,
            "order": null,
            "overflow": null,
            "overflow_x": null,
            "overflow_y": null,
            "padding": null,
            "right": null,
            "top": null,
            "visibility": null,
            "width": null
          }
        },
        "2b3d3faeba394b8b8356d42e94a26153": {
          "model_module": "@jupyter-widgets/controls",
          "model_name": "ProgressStyleModel",
          "model_module_version": "1.5.0",
          "state": {
            "_model_module": "@jupyter-widgets/controls",
            "_model_module_version": "1.5.0",
            "_model_name": "ProgressStyleModel",
            "_view_count": null,
            "_view_module": "@jupyter-widgets/base",
            "_view_module_version": "1.2.0",
            "_view_name": "StyleView",
            "bar_color": null,
            "description_width": ""
          }
        },
        "eacceb06c9eb4658accc130a248599d9": {
          "model_module": "@jupyter-widgets/base",
          "model_name": "LayoutModel",
          "model_module_version": "1.2.0",
          "state": {
            "_model_module": "@jupyter-widgets/base",
            "_model_module_version": "1.2.0",
            "_model_name": "LayoutModel",
            "_view_count": null,
            "_view_module": "@jupyter-widgets/base",
            "_view_module_version": "1.2.0",
            "_view_name": "LayoutView",
            "align_content": null,
            "align_items": null,
            "align_self": null,
            "border": null,
            "bottom": null,
            "display": null,
            "flex": null,
            "flex_flow": null,
            "grid_area": null,
            "grid_auto_columns": null,
            "grid_auto_flow": null,
            "grid_auto_rows": null,
            "grid_column": null,
            "grid_gap": null,
            "grid_row": null,
            "grid_template_areas": null,
            "grid_template_columns": null,
            "grid_template_rows": null,
            "height": null,
            "justify_content": null,
            "justify_items": null,
            "left": null,
            "margin": null,
            "max_height": null,
            "max_width": null,
            "min_height": null,
            "min_width": null,
            "object_fit": null,
            "object_position": null,
            "order": null,
            "overflow": null,
            "overflow_x": null,
            "overflow_y": null,
            "padding": null,
            "right": null,
            "top": null,
            "visibility": null,
            "width": null
          }
        },
        "f38c582fdd9a422f8d68f005565739f0": {
          "model_module": "@jupyter-widgets/controls",
          "model_name": "DescriptionStyleModel",
          "model_module_version": "1.5.0",
          "state": {
            "_model_module": "@jupyter-widgets/controls",
            "_model_module_version": "1.5.0",
            "_model_name": "DescriptionStyleModel",
            "_view_count": null,
            "_view_module": "@jupyter-widgets/base",
            "_view_module_version": "1.2.0",
            "_view_name": "StyleView",
            "description_width": ""
          }
        }
      }
    }
  },
  "nbformat": 4,
  "nbformat_minor": 0
}